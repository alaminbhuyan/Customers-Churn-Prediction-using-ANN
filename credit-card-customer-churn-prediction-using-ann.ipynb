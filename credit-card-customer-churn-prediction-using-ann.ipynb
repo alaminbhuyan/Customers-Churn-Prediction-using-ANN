{
 "cells": [
  {
   "cell_type": "code",
   "execution_count": 1,
   "id": "d2037b57",
   "metadata": {
    "_cell_guid": "b1076dfc-b9ad-4769-8c92-a6c4dae69d19",
    "_uuid": "8f2839f25d086af736a60e9eeb907d3b93b6e0e5",
    "execution": {
     "iopub.execute_input": "2022-09-04T11:20:42.224610Z",
     "iopub.status.busy": "2022-09-04T11:20:42.223539Z",
     "iopub.status.idle": "2022-09-04T11:20:42.247173Z",
     "shell.execute_reply": "2022-09-04T11:20:42.245949Z"
    },
    "papermill": {
     "duration": 0.044071,
     "end_time": "2022-09-04T11:20:42.249883",
     "exception": false,
     "start_time": "2022-09-04T11:20:42.205812",
     "status": "completed"
    },
    "tags": []
   },
   "outputs": [
    {
     "name": "stdout",
     "output_type": "stream",
     "text": [
      "/kaggle/input/credit-card-customer-churn-prediction/Churn_Modelling.csv\n"
     ]
    }
   ],
   "source": [
    "# This Python 3 environment comes with many helpful analytics libraries installed\n",
    "# It is defined by the kaggle/python Docker image: https://github.com/kaggle/docker-python\n",
    "# For example, here's several helpful packages to load\n",
    "\n",
    "import numpy as np # linear algebra\n",
    "import pandas as pd # data processing, CSV file I/O (e.g. pd.read_csv)\n",
    "\n",
    "# Input data files are available in the read-only \"../input/\" directory\n",
    "# For example, running this (by clicking run or pressing Shift+Enter) will list all files under the input directory\n",
    "\n",
    "import os\n",
    "for dirname, _, filenames in os.walk('/kaggle/input'):\n",
    "    for filename in filenames:\n",
    "        print(os.path.join(dirname, filename))\n",
    "\n",
    "# You can write up to 20GB to the current directory (/kaggle/working/) that gets preserved as output when you create a version using \"Save & Run All\" \n",
    "# You can also write temporary files to /kaggle/temp/, but they won't be saved outside of the current session"
   ]
  },
  {
   "cell_type": "markdown",
   "id": "a2564780",
   "metadata": {
    "papermill": {
     "duration": 0.012418,
     "end_time": "2022-09-04T11:20:42.275622",
     "exception": false,
     "start_time": "2022-09-04T11:20:42.263204",
     "status": "completed"
    },
    "tags": []
   },
   "source": [
    "dataset link: https://www.kaggle.com/datasets/rjmanoj/credit-card-customer-churn-prediction"
   ]
  },
  {
   "cell_type": "code",
   "execution_count": 2,
   "id": "46d690d1",
   "metadata": {
    "execution": {
     "iopub.execute_input": "2022-09-04T11:20:42.302466Z",
     "iopub.status.busy": "2022-09-04T11:20:42.302035Z",
     "iopub.status.idle": "2022-09-04T11:20:50.523764Z",
     "shell.execute_reply": "2022-09-04T11:20:50.522547Z"
    },
    "papermill": {
     "duration": 8.238548,
     "end_time": "2022-09-04T11:20:50.526852",
     "exception": false,
     "start_time": "2022-09-04T11:20:42.288304",
     "status": "completed"
    },
    "tags": []
   },
   "outputs": [],
   "source": [
    "import seaborn as sns\n",
    "import matplotlib.pyplot as plt\n",
    "from sklearn.model_selection import train_test_split\n",
    "from sklearn.preprocessing import StandardScaler\n",
    "\n",
    "\n",
    "import tensorflow\n",
    "from tensorflow.keras import Sequential\n",
    "from tensorflow.keras.layers import Dense\n",
    "from tensorflow.keras.utils import plot_model"
   ]
  },
  {
   "cell_type": "code",
   "execution_count": 3,
   "id": "59178527",
   "metadata": {
    "execution": {
     "iopub.execute_input": "2022-09-04T11:20:50.556474Z",
     "iopub.status.busy": "2022-09-04T11:20:50.555748Z",
     "iopub.status.idle": "2022-09-04T11:20:50.628187Z",
     "shell.execute_reply": "2022-09-04T11:20:50.627002Z"
    },
    "papermill": {
     "duration": 0.089696,
     "end_time": "2022-09-04T11:20:50.630739",
     "exception": false,
     "start_time": "2022-09-04T11:20:50.541043",
     "status": "completed"
    },
    "tags": []
   },
   "outputs": [
    {
     "data": {
      "text/html": [
       "<div>\n",
       "<style scoped>\n",
       "    .dataframe tbody tr th:only-of-type {\n",
       "        vertical-align: middle;\n",
       "    }\n",
       "\n",
       "    .dataframe tbody tr th {\n",
       "        vertical-align: top;\n",
       "    }\n",
       "\n",
       "    .dataframe thead th {\n",
       "        text-align: right;\n",
       "    }\n",
       "</style>\n",
       "<table border=\"1\" class=\"dataframe\">\n",
       "  <thead>\n",
       "    <tr style=\"text-align: right;\">\n",
       "      <th></th>\n",
       "      <th>RowNumber</th>\n",
       "      <th>CustomerId</th>\n",
       "      <th>Surname</th>\n",
       "      <th>CreditScore</th>\n",
       "      <th>Geography</th>\n",
       "      <th>Gender</th>\n",
       "      <th>Age</th>\n",
       "      <th>Tenure</th>\n",
       "      <th>Balance</th>\n",
       "      <th>NumOfProducts</th>\n",
       "      <th>HasCrCard</th>\n",
       "      <th>IsActiveMember</th>\n",
       "      <th>EstimatedSalary</th>\n",
       "      <th>Exited</th>\n",
       "    </tr>\n",
       "  </thead>\n",
       "  <tbody>\n",
       "    <tr>\n",
       "      <th>0</th>\n",
       "      <td>1</td>\n",
       "      <td>15634602</td>\n",
       "      <td>Hargrave</td>\n",
       "      <td>619</td>\n",
       "      <td>France</td>\n",
       "      <td>Female</td>\n",
       "      <td>42</td>\n",
       "      <td>2</td>\n",
       "      <td>0.00</td>\n",
       "      <td>1</td>\n",
       "      <td>1</td>\n",
       "      <td>1</td>\n",
       "      <td>101348.88</td>\n",
       "      <td>1</td>\n",
       "    </tr>\n",
       "    <tr>\n",
       "      <th>1</th>\n",
       "      <td>2</td>\n",
       "      <td>15647311</td>\n",
       "      <td>Hill</td>\n",
       "      <td>608</td>\n",
       "      <td>Spain</td>\n",
       "      <td>Female</td>\n",
       "      <td>41</td>\n",
       "      <td>1</td>\n",
       "      <td>83807.86</td>\n",
       "      <td>1</td>\n",
       "      <td>0</td>\n",
       "      <td>1</td>\n",
       "      <td>112542.58</td>\n",
       "      <td>0</td>\n",
       "    </tr>\n",
       "    <tr>\n",
       "      <th>2</th>\n",
       "      <td>3</td>\n",
       "      <td>15619304</td>\n",
       "      <td>Onio</td>\n",
       "      <td>502</td>\n",
       "      <td>France</td>\n",
       "      <td>Female</td>\n",
       "      <td>42</td>\n",
       "      <td>8</td>\n",
       "      <td>159660.80</td>\n",
       "      <td>3</td>\n",
       "      <td>1</td>\n",
       "      <td>0</td>\n",
       "      <td>113931.57</td>\n",
       "      <td>1</td>\n",
       "    </tr>\n",
       "    <tr>\n",
       "      <th>3</th>\n",
       "      <td>4</td>\n",
       "      <td>15701354</td>\n",
       "      <td>Boni</td>\n",
       "      <td>699</td>\n",
       "      <td>France</td>\n",
       "      <td>Female</td>\n",
       "      <td>39</td>\n",
       "      <td>1</td>\n",
       "      <td>0.00</td>\n",
       "      <td>2</td>\n",
       "      <td>0</td>\n",
       "      <td>0</td>\n",
       "      <td>93826.63</td>\n",
       "      <td>0</td>\n",
       "    </tr>\n",
       "    <tr>\n",
       "      <th>4</th>\n",
       "      <td>5</td>\n",
       "      <td>15737888</td>\n",
       "      <td>Mitchell</td>\n",
       "      <td>850</td>\n",
       "      <td>Spain</td>\n",
       "      <td>Female</td>\n",
       "      <td>43</td>\n",
       "      <td>2</td>\n",
       "      <td>125510.82</td>\n",
       "      <td>1</td>\n",
       "      <td>1</td>\n",
       "      <td>1</td>\n",
       "      <td>79084.10</td>\n",
       "      <td>0</td>\n",
       "    </tr>\n",
       "  </tbody>\n",
       "</table>\n",
       "</div>"
      ],
      "text/plain": [
       "   RowNumber  CustomerId   Surname  CreditScore Geography  Gender  Age  \\\n",
       "0          1    15634602  Hargrave          619    France  Female   42   \n",
       "1          2    15647311      Hill          608     Spain  Female   41   \n",
       "2          3    15619304      Onio          502    France  Female   42   \n",
       "3          4    15701354      Boni          699    France  Female   39   \n",
       "4          5    15737888  Mitchell          850     Spain  Female   43   \n",
       "\n",
       "   Tenure    Balance  NumOfProducts  HasCrCard  IsActiveMember  \\\n",
       "0       2       0.00              1          1               1   \n",
       "1       1   83807.86              1          0               1   \n",
       "2       8  159660.80              3          1               0   \n",
       "3       1       0.00              2          0               0   \n",
       "4       2  125510.82              1          1               1   \n",
       "\n",
       "   EstimatedSalary  Exited  \n",
       "0        101348.88       1  \n",
       "1        112542.58       0  \n",
       "2        113931.57       1  \n",
       "3         93826.63       0  \n",
       "4         79084.10       0  "
      ]
     },
     "execution_count": 3,
     "metadata": {},
     "output_type": "execute_result"
    }
   ],
   "source": [
    "df = pd.read_csv(\"/kaggle/input/credit-card-customer-churn-prediction/Churn_Modelling.csv\")\n",
    "\n",
    "df.head()"
   ]
  },
  {
   "cell_type": "code",
   "execution_count": 4,
   "id": "b0b8be54",
   "metadata": {
    "execution": {
     "iopub.execute_input": "2022-09-04T11:20:50.659425Z",
     "iopub.status.busy": "2022-09-04T11:20:50.658713Z",
     "iopub.status.idle": "2022-09-04T11:20:50.665283Z",
     "shell.execute_reply": "2022-09-04T11:20:50.664304Z"
    },
    "papermill": {
     "duration": 0.023477,
     "end_time": "2022-09-04T11:20:50.667451",
     "exception": false,
     "start_time": "2022-09-04T11:20:50.643974",
     "status": "completed"
    },
    "tags": []
   },
   "outputs": [
    {
     "data": {
      "text/plain": [
       "(10000, 14)"
      ]
     },
     "execution_count": 4,
     "metadata": {},
     "output_type": "execute_result"
    }
   ],
   "source": [
    "# Check the shape\n",
    "df.shape"
   ]
  },
  {
   "cell_type": "code",
   "execution_count": 5,
   "id": "dd4937b4",
   "metadata": {
    "execution": {
     "iopub.execute_input": "2022-09-04T11:20:50.697207Z",
     "iopub.status.busy": "2022-09-04T11:20:50.694982Z",
     "iopub.status.idle": "2022-09-04T11:20:50.723394Z",
     "shell.execute_reply": "2022-09-04T11:20:50.722348Z"
    },
    "papermill": {
     "duration": 0.045355,
     "end_time": "2022-09-04T11:20:50.726051",
     "exception": false,
     "start_time": "2022-09-04T11:20:50.680696",
     "status": "completed"
    },
    "tags": []
   },
   "outputs": [
    {
     "name": "stdout",
     "output_type": "stream",
     "text": [
      "<class 'pandas.core.frame.DataFrame'>\n",
      "RangeIndex: 10000 entries, 0 to 9999\n",
      "Data columns (total 14 columns):\n",
      " #   Column           Non-Null Count  Dtype  \n",
      "---  ------           --------------  -----  \n",
      " 0   RowNumber        10000 non-null  int64  \n",
      " 1   CustomerId       10000 non-null  int64  \n",
      " 2   Surname          10000 non-null  object \n",
      " 3   CreditScore      10000 non-null  int64  \n",
      " 4   Geography        10000 non-null  object \n",
      " 5   Gender           10000 non-null  object \n",
      " 6   Age              10000 non-null  int64  \n",
      " 7   Tenure           10000 non-null  int64  \n",
      " 8   Balance          10000 non-null  float64\n",
      " 9   NumOfProducts    10000 non-null  int64  \n",
      " 10  HasCrCard        10000 non-null  int64  \n",
      " 11  IsActiveMember   10000 non-null  int64  \n",
      " 12  EstimatedSalary  10000 non-null  float64\n",
      " 13  Exited           10000 non-null  int64  \n",
      "dtypes: float64(2), int64(9), object(3)\n",
      "memory usage: 1.1+ MB\n"
     ]
    }
   ],
   "source": [
    "# Check the info\n",
    "df.info()"
   ]
  },
  {
   "cell_type": "code",
   "execution_count": 6,
   "id": "d00c7315",
   "metadata": {
    "execution": {
     "iopub.execute_input": "2022-09-04T11:20:50.754574Z",
     "iopub.status.busy": "2022-09-04T11:20:50.754181Z",
     "iopub.status.idle": "2022-09-04T11:20:50.765348Z",
     "shell.execute_reply": "2022-09-04T11:20:50.764192Z"
    },
    "papermill": {
     "duration": 0.028862,
     "end_time": "2022-09-04T11:20:50.767954",
     "exception": false,
     "start_time": "2022-09-04T11:20:50.739092",
     "status": "completed"
    },
    "tags": []
   },
   "outputs": [
    {
     "data": {
      "text/plain": [
       "RowNumber          0\n",
       "CustomerId         0\n",
       "Surname            0\n",
       "CreditScore        0\n",
       "Geography          0\n",
       "Gender             0\n",
       "Age                0\n",
       "Tenure             0\n",
       "Balance            0\n",
       "NumOfProducts      0\n",
       "HasCrCard          0\n",
       "IsActiveMember     0\n",
       "EstimatedSalary    0\n",
       "Exited             0\n",
       "dtype: int64"
      ]
     },
     "execution_count": 6,
     "metadata": {},
     "output_type": "execute_result"
    }
   ],
   "source": [
    "# Check null values\n",
    "df.isnull().sum()"
   ]
  },
  {
   "cell_type": "code",
   "execution_count": 7,
   "id": "2abf70ff",
   "metadata": {
    "execution": {
     "iopub.execute_input": "2022-09-04T11:20:50.796550Z",
     "iopub.status.busy": "2022-09-04T11:20:50.795860Z",
     "iopub.status.idle": "2022-09-04T11:20:50.814615Z",
     "shell.execute_reply": "2022-09-04T11:20:50.813465Z"
    },
    "papermill": {
     "duration": 0.035687,
     "end_time": "2022-09-04T11:20:50.816997",
     "exception": false,
     "start_time": "2022-09-04T11:20:50.781310",
     "status": "completed"
    },
    "tags": []
   },
   "outputs": [
    {
     "data": {
      "text/plain": [
       "0"
      ]
     },
     "execution_count": 7,
     "metadata": {},
     "output_type": "execute_result"
    }
   ],
   "source": [
    "# Check duplicates rows\n",
    "\n",
    "df.duplicated().sum()"
   ]
  },
  {
   "cell_type": "code",
   "execution_count": 8,
   "id": "54c0a17d",
   "metadata": {
    "execution": {
     "iopub.execute_input": "2022-09-04T11:20:50.846134Z",
     "iopub.status.busy": "2022-09-04T11:20:50.845069Z",
     "iopub.status.idle": "2022-09-04T11:20:50.896199Z",
     "shell.execute_reply": "2022-09-04T11:20:50.895333Z"
    },
    "papermill": {
     "duration": 0.067932,
     "end_time": "2022-09-04T11:20:50.898336",
     "exception": false,
     "start_time": "2022-09-04T11:20:50.830404",
     "status": "completed"
    },
    "tags": []
   },
   "outputs": [
    {
     "data": {
      "text/html": [
       "<div>\n",
       "<style scoped>\n",
       "    .dataframe tbody tr th:only-of-type {\n",
       "        vertical-align: middle;\n",
       "    }\n",
       "\n",
       "    .dataframe tbody tr th {\n",
       "        vertical-align: top;\n",
       "    }\n",
       "\n",
       "    .dataframe thead th {\n",
       "        text-align: right;\n",
       "    }\n",
       "</style>\n",
       "<table border=\"1\" class=\"dataframe\">\n",
       "  <thead>\n",
       "    <tr style=\"text-align: right;\">\n",
       "      <th></th>\n",
       "      <th>RowNumber</th>\n",
       "      <th>CustomerId</th>\n",
       "      <th>CreditScore</th>\n",
       "      <th>Age</th>\n",
       "      <th>Tenure</th>\n",
       "      <th>Balance</th>\n",
       "      <th>NumOfProducts</th>\n",
       "      <th>HasCrCard</th>\n",
       "      <th>IsActiveMember</th>\n",
       "      <th>EstimatedSalary</th>\n",
       "      <th>Exited</th>\n",
       "    </tr>\n",
       "  </thead>\n",
       "  <tbody>\n",
       "    <tr>\n",
       "      <th>count</th>\n",
       "      <td>10000.00000</td>\n",
       "      <td>1.000000e+04</td>\n",
       "      <td>10000.000000</td>\n",
       "      <td>10000.000000</td>\n",
       "      <td>10000.000000</td>\n",
       "      <td>10000.000000</td>\n",
       "      <td>10000.000000</td>\n",
       "      <td>10000.00000</td>\n",
       "      <td>10000.000000</td>\n",
       "      <td>10000.000000</td>\n",
       "      <td>10000.000000</td>\n",
       "    </tr>\n",
       "    <tr>\n",
       "      <th>mean</th>\n",
       "      <td>5000.50000</td>\n",
       "      <td>1.569094e+07</td>\n",
       "      <td>650.528800</td>\n",
       "      <td>38.921800</td>\n",
       "      <td>5.012800</td>\n",
       "      <td>76485.889288</td>\n",
       "      <td>1.530200</td>\n",
       "      <td>0.70550</td>\n",
       "      <td>0.515100</td>\n",
       "      <td>100090.239881</td>\n",
       "      <td>0.203700</td>\n",
       "    </tr>\n",
       "    <tr>\n",
       "      <th>std</th>\n",
       "      <td>2886.89568</td>\n",
       "      <td>7.193619e+04</td>\n",
       "      <td>96.653299</td>\n",
       "      <td>10.487806</td>\n",
       "      <td>2.892174</td>\n",
       "      <td>62397.405202</td>\n",
       "      <td>0.581654</td>\n",
       "      <td>0.45584</td>\n",
       "      <td>0.499797</td>\n",
       "      <td>57510.492818</td>\n",
       "      <td>0.402769</td>\n",
       "    </tr>\n",
       "    <tr>\n",
       "      <th>min</th>\n",
       "      <td>1.00000</td>\n",
       "      <td>1.556570e+07</td>\n",
       "      <td>350.000000</td>\n",
       "      <td>18.000000</td>\n",
       "      <td>0.000000</td>\n",
       "      <td>0.000000</td>\n",
       "      <td>1.000000</td>\n",
       "      <td>0.00000</td>\n",
       "      <td>0.000000</td>\n",
       "      <td>11.580000</td>\n",
       "      <td>0.000000</td>\n",
       "    </tr>\n",
       "    <tr>\n",
       "      <th>25%</th>\n",
       "      <td>2500.75000</td>\n",
       "      <td>1.562853e+07</td>\n",
       "      <td>584.000000</td>\n",
       "      <td>32.000000</td>\n",
       "      <td>3.000000</td>\n",
       "      <td>0.000000</td>\n",
       "      <td>1.000000</td>\n",
       "      <td>0.00000</td>\n",
       "      <td>0.000000</td>\n",
       "      <td>51002.110000</td>\n",
       "      <td>0.000000</td>\n",
       "    </tr>\n",
       "    <tr>\n",
       "      <th>50%</th>\n",
       "      <td>5000.50000</td>\n",
       "      <td>1.569074e+07</td>\n",
       "      <td>652.000000</td>\n",
       "      <td>37.000000</td>\n",
       "      <td>5.000000</td>\n",
       "      <td>97198.540000</td>\n",
       "      <td>1.000000</td>\n",
       "      <td>1.00000</td>\n",
       "      <td>1.000000</td>\n",
       "      <td>100193.915000</td>\n",
       "      <td>0.000000</td>\n",
       "    </tr>\n",
       "    <tr>\n",
       "      <th>75%</th>\n",
       "      <td>7500.25000</td>\n",
       "      <td>1.575323e+07</td>\n",
       "      <td>718.000000</td>\n",
       "      <td>44.000000</td>\n",
       "      <td>7.000000</td>\n",
       "      <td>127644.240000</td>\n",
       "      <td>2.000000</td>\n",
       "      <td>1.00000</td>\n",
       "      <td>1.000000</td>\n",
       "      <td>149388.247500</td>\n",
       "      <td>0.000000</td>\n",
       "    </tr>\n",
       "    <tr>\n",
       "      <th>max</th>\n",
       "      <td>10000.00000</td>\n",
       "      <td>1.581569e+07</td>\n",
       "      <td>850.000000</td>\n",
       "      <td>92.000000</td>\n",
       "      <td>10.000000</td>\n",
       "      <td>250898.090000</td>\n",
       "      <td>4.000000</td>\n",
       "      <td>1.00000</td>\n",
       "      <td>1.000000</td>\n",
       "      <td>199992.480000</td>\n",
       "      <td>1.000000</td>\n",
       "    </tr>\n",
       "  </tbody>\n",
       "</table>\n",
       "</div>"
      ],
      "text/plain": [
       "         RowNumber    CustomerId   CreditScore           Age        Tenure  \\\n",
       "count  10000.00000  1.000000e+04  10000.000000  10000.000000  10000.000000   \n",
       "mean    5000.50000  1.569094e+07    650.528800     38.921800      5.012800   \n",
       "std     2886.89568  7.193619e+04     96.653299     10.487806      2.892174   \n",
       "min        1.00000  1.556570e+07    350.000000     18.000000      0.000000   \n",
       "25%     2500.75000  1.562853e+07    584.000000     32.000000      3.000000   \n",
       "50%     5000.50000  1.569074e+07    652.000000     37.000000      5.000000   \n",
       "75%     7500.25000  1.575323e+07    718.000000     44.000000      7.000000   \n",
       "max    10000.00000  1.581569e+07    850.000000     92.000000     10.000000   \n",
       "\n",
       "             Balance  NumOfProducts    HasCrCard  IsActiveMember  \\\n",
       "count   10000.000000   10000.000000  10000.00000    10000.000000   \n",
       "mean    76485.889288       1.530200      0.70550        0.515100   \n",
       "std     62397.405202       0.581654      0.45584        0.499797   \n",
       "min         0.000000       1.000000      0.00000        0.000000   \n",
       "25%         0.000000       1.000000      0.00000        0.000000   \n",
       "50%     97198.540000       1.000000      1.00000        1.000000   \n",
       "75%    127644.240000       2.000000      1.00000        1.000000   \n",
       "max    250898.090000       4.000000      1.00000        1.000000   \n",
       "\n",
       "       EstimatedSalary        Exited  \n",
       "count     10000.000000  10000.000000  \n",
       "mean     100090.239881      0.203700  \n",
       "std       57510.492818      0.402769  \n",
       "min          11.580000      0.000000  \n",
       "25%       51002.110000      0.000000  \n",
       "50%      100193.915000      0.000000  \n",
       "75%      149388.247500      0.000000  \n",
       "max      199992.480000      1.000000  "
      ]
     },
     "execution_count": 8,
     "metadata": {},
     "output_type": "execute_result"
    }
   ],
   "source": [
    "df.describe()"
   ]
  },
  {
   "cell_type": "markdown",
   "id": "643ca5b8",
   "metadata": {
    "papermill": {
     "duration": 0.013282,
     "end_time": "2022-09-04T11:20:50.925208",
     "exception": false,
     "start_time": "2022-09-04T11:20:50.911926",
     "status": "completed"
    },
    "tags": []
   },
   "source": [
    "### https://medium.com/@atanudan/kurtosis-skew-function-in-pandas-aa63d72e20de"
   ]
  },
  {
   "attachments": {
    "91be6c3a-681a-4799-81fb-c07bcdfb53ff.png": {
     "image/png": "[encoded data removed]"
    }
   },
   "cell_type": "markdown",
   "id": "316a47f3",
   "metadata": {
    "papermill": {
     "duration": 0.013132,
     "end_time": "2022-09-04T11:20:50.951927",
     "exception": false,
     "start_time": "2022-09-04T11:20:50.938795",
     "status": "completed"
    },
    "tags": []
   },
   "source": [
    "![image.png](attachment:91be6c3a-681a-4799-81fb-c07bcdfb53ff.png)"
   ]
  },
  {
   "cell_type": "code",
   "execution_count": 9,
   "id": "58d222e3",
   "metadata": {
    "execution": {
     "iopub.execute_input": "2022-09-04T11:20:50.981112Z",
     "iopub.status.busy": "2022-09-04T11:20:50.980403Z",
     "iopub.status.idle": "2022-09-04T11:20:50.993450Z",
     "shell.execute_reply": "2022-09-04T11:20:50.992218Z"
    },
    "papermill": {
     "duration": 0.030462,
     "end_time": "2022-09-04T11:20:50.995926",
     "exception": false,
     "start_time": "2022-09-04T11:20:50.965464",
     "status": "completed"
    },
    "tags": []
   },
   "outputs": [
    {
     "name": "stderr",
     "output_type": "stream",
     "text": [
      "/opt/conda/lib/python3.7/site-packages/ipykernel_launcher.py:1: FutureWarning: Dropping of nuisance columns in DataFrame reductions (with 'numeric_only=None') is deprecated; in a future version this will raise TypeError.  Select only valid columns before calling the reduction.\n",
      "  \"\"\"Entry point for launching an IPython kernel.\n"
     ]
    },
    {
     "data": {
      "text/plain": [
       "RowNumber          0.000000\n",
       "CustomerId         0.001149\n",
       "CreditScore       -0.071607\n",
       "Age                1.011320\n",
       "Tenure             0.010991\n",
       "Balance           -0.141109\n",
       "NumOfProducts      0.745568\n",
       "HasCrCard         -0.901812\n",
       "IsActiveMember    -0.060437\n",
       "EstimatedSalary    0.002085\n",
       "Exited             1.471611\n",
       "dtype: float64"
      ]
     },
     "execution_count": 9,
     "metadata": {},
     "output_type": "execute_result"
    }
   ],
   "source": [
    "df.skew()"
   ]
  },
  {
   "cell_type": "code",
   "execution_count": 10,
   "id": "62d0a01e",
   "metadata": {
    "execution": {
     "iopub.execute_input": "2022-09-04T11:20:51.026275Z",
     "iopub.status.busy": "2022-09-04T11:20:51.025063Z",
     "iopub.status.idle": "2022-09-04T11:20:51.055003Z",
     "shell.execute_reply": "2022-09-04T11:20:51.053548Z"
    },
    "papermill": {
     "duration": 0.04828,
     "end_time": "2022-09-04T11:20:51.057953",
     "exception": false,
     "start_time": "2022-09-04T11:20:51.009673",
     "status": "completed"
    },
    "tags": []
   },
   "outputs": [
    {
     "name": "stderr",
     "output_type": "stream",
     "text": [
      "/opt/conda/lib/python3.7/site-packages/ipykernel_launcher.py:1: FutureWarning: Dropping of nuisance columns in DataFrame reductions (with 'numeric_only=None') is deprecated; in a future version this will raise TypeError.  Select only valid columns before calling the reduction.\n",
      "  \"\"\"Entry point for launching an IPython kernel.\n"
     ]
    },
    {
     "data": {
      "text/plain": [
       "0       3.316373\n",
       "1       3.316193\n",
       "2       3.315777\n",
       "3       3.316411\n",
       "4       3.316145\n",
       "          ...   \n",
       "9995    3.316399\n",
       "9996    3.316325\n",
       "9997    3.316581\n",
       "9998    3.316321\n",
       "9999    3.316207\n",
       "Length: 10000, dtype: float64"
      ]
     },
     "execution_count": 10,
     "metadata": {},
     "output_type": "execute_result"
    }
   ],
   "source": [
    "df.skew(axis=1)"
   ]
  },
  {
   "cell_type": "code",
   "execution_count": 11,
   "id": "b7034761",
   "metadata": {
    "execution": {
     "iopub.execute_input": "2022-09-04T11:20:51.088628Z",
     "iopub.status.busy": "2022-09-04T11:20:51.088171Z",
     "iopub.status.idle": "2022-09-04T11:20:51.302595Z",
     "shell.execute_reply": "2022-09-04T11:20:51.301318Z"
    },
    "papermill": {
     "duration": 0.232989,
     "end_time": "2022-09-04T11:20:51.305296",
     "exception": false,
     "start_time": "2022-09-04T11:20:51.072307",
     "status": "completed"
    },
    "tags": []
   },
   "outputs": [
    {
     "data": {
      "image/png": "[encoded data removed]",
      "text/plain": [
       "<Figure size 432x288 with 1 Axes>"
      ]
     },
     "metadata": {
      "needs_background": "light"
     },
     "output_type": "display_data"
    }
   ],
   "source": [
    "df['Age'].plot(kind='hist')\n",
    "plt.show()"
   ]
  },
  {
   "cell_type": "code",
   "execution_count": 12,
   "id": "21f0afe3",
   "metadata": {
    "execution": {
     "iopub.execute_input": "2022-09-04T11:20:51.336401Z",
     "iopub.status.busy": "2022-09-04T11:20:51.335767Z",
     "iopub.status.idle": "2022-09-04T11:20:51.465014Z",
     "shell.execute_reply": "2022-09-04T11:20:51.464148Z"
    },
    "papermill": {
     "duration": 0.149275,
     "end_time": "2022-09-04T11:20:51.469024",
     "exception": false,
     "start_time": "2022-09-04T11:20:51.319749",
     "status": "completed"
    },
    "tags": []
   },
   "outputs": [
    {
     "data": {
      "image/png": "[encoded data removed]",
      "text/plain": [
       "<Figure size 576x504 with 1 Axes>"
      ]
     },
     "metadata": {
      "needs_background": "light"
     },
     "output_type": "display_data"
    }
   ],
   "source": [
    "plt.figure(figsize=(8,7))\n",
    "sns.countplot(x='Geography', data=df)\n",
    "plt.show()"
   ]
  },
  {
   "cell_type": "code",
   "execution_count": 13,
   "id": "9d2f0669",
   "metadata": {
    "execution": {
     "iopub.execute_input": "2022-09-04T11:20:51.516829Z",
     "iopub.status.busy": "2022-09-04T11:20:51.516139Z",
     "iopub.status.idle": "2022-09-04T11:20:51.701976Z",
     "shell.execute_reply": "2022-09-04T11:20:51.701174Z"
    },
    "papermill": {
     "duration": 0.204558,
     "end_time": "2022-09-04T11:20:51.704413",
     "exception": false,
     "start_time": "2022-09-04T11:20:51.499855",
     "status": "completed"
    },
    "tags": []
   },
   "outputs": [
    {
     "data": {
      "image/png": "[encoded data removed]",
      "text/plain": [
       "<Figure size 576x504 with 1 Axes>"
      ]
     },
     "metadata": {
      "needs_background": "light"
     },
     "output_type": "display_data"
    }
   ],
   "source": [
    "plt.figure(figsize=(8,7))\n",
    "sns.countplot(y='Geography', data=df)\n",
    "plt.show()"
   ]
  },
  {
   "cell_type": "code",
   "execution_count": 14,
   "id": "98fb03ed",
   "metadata": {
    "execution": {
     "iopub.execute_input": "2022-09-04T11:20:51.736664Z",
     "iopub.status.busy": "2022-09-04T11:20:51.736241Z",
     "iopub.status.idle": "2022-09-04T11:20:52.040513Z",
     "shell.execute_reply": "2022-09-04T11:20:52.039423Z"
    },
    "papermill": {
     "duration": 0.323095,
     "end_time": "2022-09-04T11:20:52.042917",
     "exception": false,
     "start_time": "2022-09-04T11:20:51.719822",
     "status": "completed"
    },
    "tags": []
   },
   "outputs": [
    {
     "data": {
      "image/png": "[encoded data removed]",
      "text/plain": [
       "<Figure size 576x504 with 1 Axes>"
      ]
     },
     "metadata": {},
     "output_type": "display_data"
    }
   ],
   "source": [
    "counts = df['Geography'].value_counts()\n",
    "labels = df['Geography']\n",
    "colors = [\"grey\", \"purple\", \"red\"]\n",
    "\n",
    "\n",
    "plt.figure(figsize=(8,7))\n",
    "plt.pie(x=counts,colors=colors,autopct=\"%1.1f%%\",shadow=True,startangle=270)\n",
    "plt.legend(labels)\n",
    "plt.title(label=\"Geographical Area - Churn in Dataset\", color=\"red\", fontsize=20,pad=15)\n",
    "plt.show()"
   ]
  },
  {
   "cell_type": "code",
   "execution_count": 15,
   "id": "a6464bc6",
   "metadata": {
    "execution": {
     "iopub.execute_input": "2022-09-04T11:20:52.074997Z",
     "iopub.status.busy": "2022-09-04T11:20:52.074602Z",
     "iopub.status.idle": "2022-09-04T11:20:52.341723Z",
     "shell.execute_reply": "2022-09-04T11:20:52.340502Z"
    },
    "papermill": {
     "duration": 0.286571,
     "end_time": "2022-09-04T11:20:52.344578",
     "exception": false,
     "start_time": "2022-09-04T11:20:52.058007",
     "status": "completed"
    },
    "tags": []
   },
   "outputs": [
    {
     "data": {
      "image/png": "[encoded data removed]",
      "text/plain": [
       "<Figure size 576x504 with 1 Axes>"
      ]
     },
     "metadata": {
      "needs_background": "light"
     },
     "output_type": "display_data"
    }
   ],
   "source": [
    "# Age vs Blance\n",
    "\n",
    "plt.figure(figsize=(8,7))\n",
    "plt.scatter(x='Age',y='Balance',edgecolors='Red',data=df)\n",
    "plt.title(label=\"Age VS Balance\", color=\"red\", fontsize=20,pad=15)\n",
    "plt.xlabel(xlabel=\"Age\", color=\"green\", fontsize=20)\n",
    "plt.ylabel(ylabel=\"Balance\",color=\"green\", fontsize=20)\n",
    "plt.show()"
   ]
  },
  {
   "cell_type": "code",
   "execution_count": 16,
   "id": "923c93b2",
   "metadata": {
    "execution": {
     "iopub.execute_input": "2022-09-04T11:20:52.381231Z",
     "iopub.status.busy": "2022-09-04T11:20:52.380516Z",
     "iopub.status.idle": "2022-09-04T11:20:52.673036Z",
     "shell.execute_reply": "2022-09-04T11:20:52.671616Z"
    },
    "papermill": {
     "duration": 0.313488,
     "end_time": "2022-09-04T11:20:52.675665",
     "exception": false,
     "start_time": "2022-09-04T11:20:52.362177",
     "status": "completed"
    },
    "tags": []
   },
   "outputs": [
    {
     "data": {
      "image/png": "[encoded data removed]",
      "text/plain": [
       "<Figure size 576x504 with 1 Axes>"
      ]
     },
     "metadata": {},
     "output_type": "display_data"
    }
   ],
   "source": [
    "counts2 = df['Exited'].value_counts()\n",
    "labels2 = df['Exited']\n",
    "colors2 = [\"purple\", \"green\"]\n",
    "\n",
    "\n",
    "plt.figure(figsize=(8,7))\n",
    "plt.pie(x=counts2,colors=colors2,autopct=\"%1.1f%%\",shadow=True,startangle=270)\n",
    "plt.legend(labels2)\n",
    "plt.title(label=\"Exit Customers - Churn in Dataset\", color=\"pink\", fontsize=20,pad=15)\n",
    "plt.show()"
   ]
  },
  {
   "cell_type": "code",
   "execution_count": 17,
   "id": "13fbddb3",
   "metadata": {
    "execution": {
     "iopub.execute_input": "2022-09-04T11:20:52.711191Z",
     "iopub.status.busy": "2022-09-04T11:20:52.710756Z",
     "iopub.status.idle": "2022-09-04T11:20:52.727584Z",
     "shell.execute_reply": "2022-09-04T11:20:52.726474Z"
    },
    "papermill": {
     "duration": 0.037178,
     "end_time": "2022-09-04T11:20:52.729758",
     "exception": false,
     "start_time": "2022-09-04T11:20:52.692580",
     "status": "completed"
    },
    "tags": []
   },
   "outputs": [
    {
     "data": {
      "text/html": [
       "<div>\n",
       "<style scoped>\n",
       "    .dataframe tbody tr th:only-of-type {\n",
       "        vertical-align: middle;\n",
       "    }\n",
       "\n",
       "    .dataframe tbody tr th {\n",
       "        vertical-align: top;\n",
       "    }\n",
       "\n",
       "    .dataframe thead th {\n",
       "        text-align: right;\n",
       "    }\n",
       "</style>\n",
       "<table border=\"1\" class=\"dataframe\">\n",
       "  <thead>\n",
       "    <tr style=\"text-align: right;\">\n",
       "      <th></th>\n",
       "      <th>RowNumber</th>\n",
       "      <th>CustomerId</th>\n",
       "      <th>Surname</th>\n",
       "      <th>CreditScore</th>\n",
       "      <th>Geography</th>\n",
       "      <th>Gender</th>\n",
       "      <th>Age</th>\n",
       "      <th>Tenure</th>\n",
       "      <th>Balance</th>\n",
       "      <th>NumOfProducts</th>\n",
       "      <th>HasCrCard</th>\n",
       "      <th>IsActiveMember</th>\n",
       "      <th>EstimatedSalary</th>\n",
       "      <th>Exited</th>\n",
       "    </tr>\n",
       "  </thead>\n",
       "  <tbody>\n",
       "    <tr>\n",
       "      <th>0</th>\n",
       "      <td>1</td>\n",
       "      <td>15634602</td>\n",
       "      <td>Hargrave</td>\n",
       "      <td>619</td>\n",
       "      <td>France</td>\n",
       "      <td>Female</td>\n",
       "      <td>42</td>\n",
       "      <td>2</td>\n",
       "      <td>0.00</td>\n",
       "      <td>1</td>\n",
       "      <td>1</td>\n",
       "      <td>1</td>\n",
       "      <td>101348.88</td>\n",
       "      <td>1</td>\n",
       "    </tr>\n",
       "    <tr>\n",
       "      <th>1</th>\n",
       "      <td>2</td>\n",
       "      <td>15647311</td>\n",
       "      <td>Hill</td>\n",
       "      <td>608</td>\n",
       "      <td>Spain</td>\n",
       "      <td>Female</td>\n",
       "      <td>41</td>\n",
       "      <td>1</td>\n",
       "      <td>83807.86</td>\n",
       "      <td>1</td>\n",
       "      <td>0</td>\n",
       "      <td>1</td>\n",
       "      <td>112542.58</td>\n",
       "      <td>0</td>\n",
       "    </tr>\n",
       "    <tr>\n",
       "      <th>2</th>\n",
       "      <td>3</td>\n",
       "      <td>15619304</td>\n",
       "      <td>Onio</td>\n",
       "      <td>502</td>\n",
       "      <td>France</td>\n",
       "      <td>Female</td>\n",
       "      <td>42</td>\n",
       "      <td>8</td>\n",
       "      <td>159660.80</td>\n",
       "      <td>3</td>\n",
       "      <td>1</td>\n",
       "      <td>0</td>\n",
       "      <td>113931.57</td>\n",
       "      <td>1</td>\n",
       "    </tr>\n",
       "    <tr>\n",
       "      <th>3</th>\n",
       "      <td>4</td>\n",
       "      <td>15701354</td>\n",
       "      <td>Boni</td>\n",
       "      <td>699</td>\n",
       "      <td>France</td>\n",
       "      <td>Female</td>\n",
       "      <td>39</td>\n",
       "      <td>1</td>\n",
       "      <td>0.00</td>\n",
       "      <td>2</td>\n",
       "      <td>0</td>\n",
       "      <td>0</td>\n",
       "      <td>93826.63</td>\n",
       "      <td>0</td>\n",
       "    </tr>\n",
       "    <tr>\n",
       "      <th>4</th>\n",
       "      <td>5</td>\n",
       "      <td>15737888</td>\n",
       "      <td>Mitchell</td>\n",
       "      <td>850</td>\n",
       "      <td>Spain</td>\n",
       "      <td>Female</td>\n",
       "      <td>43</td>\n",
       "      <td>2</td>\n",
       "      <td>125510.82</td>\n",
       "      <td>1</td>\n",
       "      <td>1</td>\n",
       "      <td>1</td>\n",
       "      <td>79084.10</td>\n",
       "      <td>0</td>\n",
       "    </tr>\n",
       "  </tbody>\n",
       "</table>\n",
       "</div>"
      ],
      "text/plain": [
       "   RowNumber  CustomerId   Surname  CreditScore Geography  Gender  Age  \\\n",
       "0          1    15634602  Hargrave          619    France  Female   42   \n",
       "1          2    15647311      Hill          608     Spain  Female   41   \n",
       "2          3    15619304      Onio          502    France  Female   42   \n",
       "3          4    15701354      Boni          699    France  Female   39   \n",
       "4          5    15737888  Mitchell          850     Spain  Female   43   \n",
       "\n",
       "   Tenure    Balance  NumOfProducts  HasCrCard  IsActiveMember  \\\n",
       "0       2       0.00              1          1               1   \n",
       "1       1   83807.86              1          0               1   \n",
       "2       8  159660.80              3          1               0   \n",
       "3       1       0.00              2          0               0   \n",
       "4       2  125510.82              1          1               1   \n",
       "\n",
       "   EstimatedSalary  Exited  \n",
       "0        101348.88       1  \n",
       "1        112542.58       0  \n",
       "2        113931.57       1  \n",
       "3         93826.63       0  \n",
       "4         79084.10       0  "
      ]
     },
     "execution_count": 17,
     "metadata": {},
     "output_type": "execute_result"
    }
   ],
   "source": [
    "df.head()"
   ]
  },
  {
   "cell_type": "code",
   "execution_count": 18,
   "id": "2ac12749",
   "metadata": {
    "execution": {
     "iopub.execute_input": "2022-09-04T11:20:52.767456Z",
     "iopub.status.busy": "2022-09-04T11:20:52.766372Z",
     "iopub.status.idle": "2022-09-04T11:20:52.774724Z",
     "shell.execute_reply": "2022-09-04T11:20:52.773579Z"
    },
    "papermill": {
     "duration": 0.030706,
     "end_time": "2022-09-04T11:20:52.777611",
     "exception": false,
     "start_time": "2022-09-04T11:20:52.746905",
     "status": "completed"
    },
    "tags": []
   },
   "outputs": [],
   "source": [
    "# Drop unnecessary columns\n",
    "\n",
    "df.drop(columns=[\"RowNumber\",\"CustomerId\", \"Surname\"],inplace=True)"
   ]
  },
  {
   "cell_type": "code",
   "execution_count": 19,
   "id": "6679afd6",
   "metadata": {
    "execution": {
     "iopub.execute_input": "2022-09-04T11:20:52.815999Z",
     "iopub.status.busy": "2022-09-04T11:20:52.815275Z",
     "iopub.status.idle": "2022-09-04T11:20:52.830267Z",
     "shell.execute_reply": "2022-09-04T11:20:52.829083Z"
    },
    "papermill": {
     "duration": 0.036268,
     "end_time": "2022-09-04T11:20:52.832856",
     "exception": false,
     "start_time": "2022-09-04T11:20:52.796588",
     "status": "completed"
    },
    "tags": []
   },
   "outputs": [
    {
     "data": {
      "text/html": [
       "<div>\n",
       "<style scoped>\n",
       "    .dataframe tbody tr th:only-of-type {\n",
       "        vertical-align: middle;\n",
       "    }\n",
       "\n",
       "    .dataframe tbody tr th {\n",
       "        vertical-align: top;\n",
       "    }\n",
       "\n",
       "    .dataframe thead th {\n",
       "        text-align: right;\n",
       "    }\n",
       "</style>\n",
       "<table border=\"1\" class=\"dataframe\">\n",
       "  <thead>\n",
       "    <tr style=\"text-align: right;\">\n",
       "      <th></th>\n",
       "      <th>CreditScore</th>\n",
       "      <th>Geography</th>\n",
       "      <th>Gender</th>\n",
       "      <th>Age</th>\n",
       "      <th>Tenure</th>\n",
       "      <th>Balance</th>\n",
       "      <th>NumOfProducts</th>\n",
       "      <th>HasCrCard</th>\n",
       "      <th>IsActiveMember</th>\n",
       "      <th>EstimatedSalary</th>\n",
       "      <th>Exited</th>\n",
       "    </tr>\n",
       "  </thead>\n",
       "  <tbody>\n",
       "    <tr>\n",
       "      <th>0</th>\n",
       "      <td>619</td>\n",
       "      <td>France</td>\n",
       "      <td>Female</td>\n",
       "      <td>42</td>\n",
       "      <td>2</td>\n",
       "      <td>0.00</td>\n",
       "      <td>1</td>\n",
       "      <td>1</td>\n",
       "      <td>1</td>\n",
       "      <td>101348.88</td>\n",
       "      <td>1</td>\n",
       "    </tr>\n",
       "    <tr>\n",
       "      <th>1</th>\n",
       "      <td>608</td>\n",
       "      <td>Spain</td>\n",
       "      <td>Female</td>\n",
       "      <td>41</td>\n",
       "      <td>1</td>\n",
       "      <td>83807.86</td>\n",
       "      <td>1</td>\n",
       "      <td>0</td>\n",
       "      <td>1</td>\n",
       "      <td>112542.58</td>\n",
       "      <td>0</td>\n",
       "    </tr>\n",
       "    <tr>\n",
       "      <th>2</th>\n",
       "      <td>502</td>\n",
       "      <td>France</td>\n",
       "      <td>Female</td>\n",
       "      <td>42</td>\n",
       "      <td>8</td>\n",
       "      <td>159660.80</td>\n",
       "      <td>3</td>\n",
       "      <td>1</td>\n",
       "      <td>0</td>\n",
       "      <td>113931.57</td>\n",
       "      <td>1</td>\n",
       "    </tr>\n",
       "    <tr>\n",
       "      <th>3</th>\n",
       "      <td>699</td>\n",
       "      <td>France</td>\n",
       "      <td>Female</td>\n",
       "      <td>39</td>\n",
       "      <td>1</td>\n",
       "      <td>0.00</td>\n",
       "      <td>2</td>\n",
       "      <td>0</td>\n",
       "      <td>0</td>\n",
       "      <td>93826.63</td>\n",
       "      <td>0</td>\n",
       "    </tr>\n",
       "    <tr>\n",
       "      <th>4</th>\n",
       "      <td>850</td>\n",
       "      <td>Spain</td>\n",
       "      <td>Female</td>\n",
       "      <td>43</td>\n",
       "      <td>2</td>\n",
       "      <td>125510.82</td>\n",
       "      <td>1</td>\n",
       "      <td>1</td>\n",
       "      <td>1</td>\n",
       "      <td>79084.10</td>\n",
       "      <td>0</td>\n",
       "    </tr>\n",
       "  </tbody>\n",
       "</table>\n",
       "</div>"
      ],
      "text/plain": [
       "   CreditScore Geography  Gender  Age  Tenure    Balance  NumOfProducts  \\\n",
       "0          619    France  Female   42       2       0.00              1   \n",
       "1          608     Spain  Female   41       1   83807.86              1   \n",
       "2          502    France  Female   42       8  159660.80              3   \n",
       "3          699    France  Female   39       1       0.00              2   \n",
       "4          850     Spain  Female   43       2  125510.82              1   \n",
       "\n",
       "   HasCrCard  IsActiveMember  EstimatedSalary  Exited  \n",
       "0          1               1        101348.88       1  \n",
       "1          0               1        112542.58       0  \n",
       "2          1               0        113931.57       1  \n",
       "3          0               0         93826.63       0  \n",
       "4          1               1         79084.10       0  "
      ]
     },
     "execution_count": 19,
     "metadata": {},
     "output_type": "execute_result"
    }
   ],
   "source": [
    "df.head()"
   ]
  },
  {
   "cell_type": "code",
   "execution_count": 20,
   "id": "d8addb56",
   "metadata": {
    "execution": {
     "iopub.execute_input": "2022-09-04T11:20:52.869213Z",
     "iopub.status.busy": "2022-09-04T11:20:52.868785Z",
     "iopub.status.idle": "2022-09-04T11:20:52.876209Z",
     "shell.execute_reply": "2022-09-04T11:20:52.875046Z"
    },
    "papermill": {
     "duration": 0.028236,
     "end_time": "2022-09-04T11:20:52.878402",
     "exception": false,
     "start_time": "2022-09-04T11:20:52.850166",
     "status": "completed"
    },
    "tags": []
   },
   "outputs": [
    {
     "data": {
      "text/plain": [
       "(10000, 11)"
      ]
     },
     "execution_count": 20,
     "metadata": {},
     "output_type": "execute_result"
    }
   ],
   "source": [
    "# Check the shape\n",
    "df.shape"
   ]
  },
  {
   "cell_type": "code",
   "execution_count": 21,
   "id": "780e3f16",
   "metadata": {
    "execution": {
     "iopub.execute_input": "2022-09-04T11:20:52.915968Z",
     "iopub.status.busy": "2022-09-04T11:20:52.914795Z",
     "iopub.status.idle": "2022-09-04T11:20:52.928143Z",
     "shell.execute_reply": "2022-09-04T11:20:52.926878Z"
    },
    "papermill": {
     "duration": 0.035046,
     "end_time": "2022-09-04T11:20:52.930789",
     "exception": false,
     "start_time": "2022-09-04T11:20:52.895743",
     "status": "completed"
    },
    "tags": []
   },
   "outputs": [],
   "source": [
    "df = pd.get_dummies(data=df,columns=[\"Geography\", \"Gender\"],drop_first=True)"
   ]
  },
  {
   "cell_type": "code",
   "execution_count": 22,
   "id": "08c5e705",
   "metadata": {
    "execution": {
     "iopub.execute_input": "2022-09-04T11:20:52.967443Z",
     "iopub.status.busy": "2022-09-04T11:20:52.966995Z",
     "iopub.status.idle": "2022-09-04T11:20:52.983022Z",
     "shell.execute_reply": "2022-09-04T11:20:52.981871Z"
    },
    "papermill": {
     "duration": 0.037294,
     "end_time": "2022-09-04T11:20:52.985481",
     "exception": false,
     "start_time": "2022-09-04T11:20:52.948187",
     "status": "completed"
    },
    "tags": []
   },
   "outputs": [
    {
     "data": {
      "text/html": [
       "<div>\n",
       "<style scoped>\n",
       "    .dataframe tbody tr th:only-of-type {\n",
       "        vertical-align: middle;\n",
       "    }\n",
       "\n",
       "    .dataframe tbody tr th {\n",
       "        vertical-align: top;\n",
       "    }\n",
       "\n",
       "    .dataframe thead th {\n",
       "        text-align: right;\n",
       "    }\n",
       "</style>\n",
       "<table border=\"1\" class=\"dataframe\">\n",
       "  <thead>\n",
       "    <tr style=\"text-align: right;\">\n",
       "      <th></th>\n",
       "      <th>CreditScore</th>\n",
       "      <th>Age</th>\n",
       "      <th>Tenure</th>\n",
       "      <th>Balance</th>\n",
       "      <th>NumOfProducts</th>\n",
       "      <th>HasCrCard</th>\n",
       "      <th>IsActiveMember</th>\n",
       "      <th>EstimatedSalary</th>\n",
       "      <th>Exited</th>\n",
       "      <th>Geography_Germany</th>\n",
       "      <th>Geography_Spain</th>\n",
       "      <th>Gender_Male</th>\n",
       "    </tr>\n",
       "  </thead>\n",
       "  <tbody>\n",
       "    <tr>\n",
       "      <th>0</th>\n",
       "      <td>619</td>\n",
       "      <td>42</td>\n",
       "      <td>2</td>\n",
       "      <td>0.00</td>\n",
       "      <td>1</td>\n",
       "      <td>1</td>\n",
       "      <td>1</td>\n",
       "      <td>101348.88</td>\n",
       "      <td>1</td>\n",
       "      <td>0</td>\n",
       "      <td>0</td>\n",
       "      <td>0</td>\n",
       "    </tr>\n",
       "    <tr>\n",
       "      <th>1</th>\n",
       "      <td>608</td>\n",
       "      <td>41</td>\n",
       "      <td>1</td>\n",
       "      <td>83807.86</td>\n",
       "      <td>1</td>\n",
       "      <td>0</td>\n",
       "      <td>1</td>\n",
       "      <td>112542.58</td>\n",
       "      <td>0</td>\n",
       "      <td>0</td>\n",
       "      <td>1</td>\n",
       "      <td>0</td>\n",
       "    </tr>\n",
       "    <tr>\n",
       "      <th>2</th>\n",
       "      <td>502</td>\n",
       "      <td>42</td>\n",
       "      <td>8</td>\n",
       "      <td>159660.80</td>\n",
       "      <td>3</td>\n",
       "      <td>1</td>\n",
       "      <td>0</td>\n",
       "      <td>113931.57</td>\n",
       "      <td>1</td>\n",
       "      <td>0</td>\n",
       "      <td>0</td>\n",
       "      <td>0</td>\n",
       "    </tr>\n",
       "    <tr>\n",
       "      <th>3</th>\n",
       "      <td>699</td>\n",
       "      <td>39</td>\n",
       "      <td>1</td>\n",
       "      <td>0.00</td>\n",
       "      <td>2</td>\n",
       "      <td>0</td>\n",
       "      <td>0</td>\n",
       "      <td>93826.63</td>\n",
       "      <td>0</td>\n",
       "      <td>0</td>\n",
       "      <td>0</td>\n",
       "      <td>0</td>\n",
       "    </tr>\n",
       "    <tr>\n",
       "      <th>4</th>\n",
       "      <td>850</td>\n",
       "      <td>43</td>\n",
       "      <td>2</td>\n",
       "      <td>125510.82</td>\n",
       "      <td>1</td>\n",
       "      <td>1</td>\n",
       "      <td>1</td>\n",
       "      <td>79084.10</td>\n",
       "      <td>0</td>\n",
       "      <td>0</td>\n",
       "      <td>1</td>\n",
       "      <td>0</td>\n",
       "    </tr>\n",
       "  </tbody>\n",
       "</table>\n",
       "</div>"
      ],
      "text/plain": [
       "   CreditScore  Age  Tenure    Balance  NumOfProducts  HasCrCard  \\\n",
       "0          619   42       2       0.00              1          1   \n",
       "1          608   41       1   83807.86              1          0   \n",
       "2          502   42       8  159660.80              3          1   \n",
       "3          699   39       1       0.00              2          0   \n",
       "4          850   43       2  125510.82              1          1   \n",
       "\n",
       "   IsActiveMember  EstimatedSalary  Exited  Geography_Germany  \\\n",
       "0               1        101348.88       1                  0   \n",
       "1               1        112542.58       0                  0   \n",
       "2               0        113931.57       1                  0   \n",
       "3               0         93826.63       0                  0   \n",
       "4               1         79084.10       0                  0   \n",
       "\n",
       "   Geography_Spain  Gender_Male  \n",
       "0                0            0  \n",
       "1                1            0  \n",
       "2                0            0  \n",
       "3                0            0  \n",
       "4                1            0  "
      ]
     },
     "execution_count": 22,
     "metadata": {},
     "output_type": "execute_result"
    }
   ],
   "source": [
    "df.head()"
   ]
  },
  {
   "cell_type": "code",
   "execution_count": 23,
   "id": "2b70bd81",
   "metadata": {
    "execution": {
     "iopub.execute_input": "2022-09-04T11:20:53.023193Z",
     "iopub.status.busy": "2022-09-04T11:20:53.022098Z",
     "iopub.status.idle": "2022-09-04T11:20:53.029573Z",
     "shell.execute_reply": "2022-09-04T11:20:53.028610Z"
    },
    "papermill": {
     "duration": 0.028767,
     "end_time": "2022-09-04T11:20:53.031803",
     "exception": false,
     "start_time": "2022-09-04T11:20:53.003036",
     "status": "completed"
    },
    "tags": []
   },
   "outputs": [],
   "source": [
    "# Split the dataset into X and y\n",
    "X = df.drop(labels=\"Exited\", axis=\"columns\")\n",
    "\n",
    "y = df['Exited'].values"
   ]
  },
  {
   "cell_type": "code",
   "execution_count": 24,
   "id": "24f75b89",
   "metadata": {
    "execution": {
     "iopub.execute_input": "2022-09-04T11:20:53.069205Z",
     "iopub.status.busy": "2022-09-04T11:20:53.068542Z",
     "iopub.status.idle": "2022-09-04T11:20:53.083216Z",
     "shell.execute_reply": "2022-09-04T11:20:53.082101Z"
    },
    "papermill": {
     "duration": 0.036458,
     "end_time": "2022-09-04T11:20:53.085694",
     "exception": false,
     "start_time": "2022-09-04T11:20:53.049236",
     "status": "completed"
    },
    "tags": []
   },
   "outputs": [
    {
     "data": {
      "text/html": [
       "<div>\n",
       "<style scoped>\n",
       "    .dataframe tbody tr th:only-of-type {\n",
       "        vertical-align: middle;\n",
       "    }\n",
       "\n",
       "    .dataframe tbody tr th {\n",
       "        vertical-align: top;\n",
       "    }\n",
       "\n",
       "    .dataframe thead th {\n",
       "        text-align: right;\n",
       "    }\n",
       "</style>\n",
       "<table border=\"1\" class=\"dataframe\">\n",
       "  <thead>\n",
       "    <tr style=\"text-align: right;\">\n",
       "      <th></th>\n",
       "      <th>CreditScore</th>\n",
       "      <th>Age</th>\n",
       "      <th>Tenure</th>\n",
       "      <th>Balance</th>\n",
       "      <th>NumOfProducts</th>\n",
       "      <th>HasCrCard</th>\n",
       "      <th>IsActiveMember</th>\n",
       "      <th>EstimatedSalary</th>\n",
       "      <th>Geography_Germany</th>\n",
       "      <th>Geography_Spain</th>\n",
       "      <th>Gender_Male</th>\n",
       "    </tr>\n",
       "  </thead>\n",
       "  <tbody>\n",
       "    <tr>\n",
       "      <th>0</th>\n",
       "      <td>619</td>\n",
       "      <td>42</td>\n",
       "      <td>2</td>\n",
       "      <td>0.00</td>\n",
       "      <td>1</td>\n",
       "      <td>1</td>\n",
       "      <td>1</td>\n",
       "      <td>101348.88</td>\n",
       "      <td>0</td>\n",
       "      <td>0</td>\n",
       "      <td>0</td>\n",
       "    </tr>\n",
       "    <tr>\n",
       "      <th>1</th>\n",
       "      <td>608</td>\n",
       "      <td>41</td>\n",
       "      <td>1</td>\n",
       "      <td>83807.86</td>\n",
       "      <td>1</td>\n",
       "      <td>0</td>\n",
       "      <td>1</td>\n",
       "      <td>112542.58</td>\n",
       "      <td>0</td>\n",
       "      <td>1</td>\n",
       "      <td>0</td>\n",
       "    </tr>\n",
       "    <tr>\n",
       "      <th>2</th>\n",
       "      <td>502</td>\n",
       "      <td>42</td>\n",
       "      <td>8</td>\n",
       "      <td>159660.80</td>\n",
       "      <td>3</td>\n",
       "      <td>1</td>\n",
       "      <td>0</td>\n",
       "      <td>113931.57</td>\n",
       "      <td>0</td>\n",
       "      <td>0</td>\n",
       "      <td>0</td>\n",
       "    </tr>\n",
       "    <tr>\n",
       "      <th>3</th>\n",
       "      <td>699</td>\n",
       "      <td>39</td>\n",
       "      <td>1</td>\n",
       "      <td>0.00</td>\n",
       "      <td>2</td>\n",
       "      <td>0</td>\n",
       "      <td>0</td>\n",
       "      <td>93826.63</td>\n",
       "      <td>0</td>\n",
       "      <td>0</td>\n",
       "      <td>0</td>\n",
       "    </tr>\n",
       "    <tr>\n",
       "      <th>4</th>\n",
       "      <td>850</td>\n",
       "      <td>43</td>\n",
       "      <td>2</td>\n",
       "      <td>125510.82</td>\n",
       "      <td>1</td>\n",
       "      <td>1</td>\n",
       "      <td>1</td>\n",
       "      <td>79084.10</td>\n",
       "      <td>0</td>\n",
       "      <td>1</td>\n",
       "      <td>0</td>\n",
       "    </tr>\n",
       "  </tbody>\n",
       "</table>\n",
       "</div>"
      ],
      "text/plain": [
       "   CreditScore  Age  Tenure    Balance  NumOfProducts  HasCrCard  \\\n",
       "0          619   42       2       0.00              1          1   \n",
       "1          608   41       1   83807.86              1          0   \n",
       "2          502   42       8  159660.80              3          1   \n",
       "3          699   39       1       0.00              2          0   \n",
       "4          850   43       2  125510.82              1          1   \n",
       "\n",
       "   IsActiveMember  EstimatedSalary  Geography_Germany  Geography_Spain  \\\n",
       "0               1        101348.88                  0                0   \n",
       "1               1        112542.58                  0                1   \n",
       "2               0        113931.57                  0                0   \n",
       "3               0         93826.63                  0                0   \n",
       "4               1         79084.10                  0                1   \n",
       "\n",
       "   Gender_Male  \n",
       "0            0  \n",
       "1            0  \n",
       "2            0  \n",
       "3            0  \n",
       "4            0  "
      ]
     },
     "execution_count": 24,
     "metadata": {},
     "output_type": "execute_result"
    }
   ],
   "source": [
    "X.head()"
   ]
  },
  {
   "cell_type": "code",
   "execution_count": 25,
   "id": "91594471",
   "metadata": {
    "execution": {
     "iopub.execute_input": "2022-09-04T11:20:53.123994Z",
     "iopub.status.busy": "2022-09-04T11:20:53.123159Z",
     "iopub.status.idle": "2022-09-04T11:20:53.130069Z",
     "shell.execute_reply": "2022-09-04T11:20:53.129185Z"
    },
    "papermill": {
     "duration": 0.028408,
     "end_time": "2022-09-04T11:20:53.132302",
     "exception": false,
     "start_time": "2022-09-04T11:20:53.103894",
     "status": "completed"
    },
    "tags": []
   },
   "outputs": [
    {
     "data": {
      "text/plain": [
       "array([1, 0, 1, ..., 1, 1, 0])"
      ]
     },
     "execution_count": 25,
     "metadata": {},
     "output_type": "execute_result"
    }
   ],
   "source": [
    "# Target\n",
    "y"
   ]
  },
  {
   "cell_type": "code",
   "execution_count": 26,
   "id": "c40f6c87",
   "metadata": {
    "execution": {
     "iopub.execute_input": "2022-09-04T11:20:53.171100Z",
     "iopub.status.busy": "2022-09-04T11:20:53.170330Z",
     "iopub.status.idle": "2022-09-04T11:20:53.179831Z",
     "shell.execute_reply": "2022-09-04T11:20:53.178689Z"
    },
    "papermill": {
     "duration": 0.032381,
     "end_time": "2022-09-04T11:20:53.182466",
     "exception": false,
     "start_time": "2022-09-04T11:20:53.150085",
     "status": "completed"
    },
    "tags": []
   },
   "outputs": [],
   "source": [
    "X_train,X_test,y_train,y_test = train_test_split(X, y, test_size=0.2, random_state=1)"
   ]
  },
  {
   "cell_type": "code",
   "execution_count": 27,
   "id": "db7ae468",
   "metadata": {
    "execution": {
     "iopub.execute_input": "2022-09-04T11:20:53.223073Z",
     "iopub.status.busy": "2022-09-04T11:20:53.222215Z",
     "iopub.status.idle": "2022-09-04T11:20:53.237968Z",
     "shell.execute_reply": "2022-09-04T11:20:53.236748Z"
    },
    "papermill": {
     "duration": 0.038211,
     "end_time": "2022-09-04T11:20:53.240642",
     "exception": false,
     "start_time": "2022-09-04T11:20:53.202431",
     "status": "completed"
    },
    "tags": []
   },
   "outputs": [
    {
     "data": {
      "text/html": [
       "<div>\n",
       "<style scoped>\n",
       "    .dataframe tbody tr th:only-of-type {\n",
       "        vertical-align: middle;\n",
       "    }\n",
       "\n",
       "    .dataframe tbody tr th {\n",
       "        vertical-align: top;\n",
       "    }\n",
       "\n",
       "    .dataframe thead th {\n",
       "        text-align: right;\n",
       "    }\n",
       "</style>\n",
       "<table border=\"1\" class=\"dataframe\">\n",
       "  <thead>\n",
       "    <tr style=\"text-align: right;\">\n",
       "      <th></th>\n",
       "      <th>CreditScore</th>\n",
       "      <th>Age</th>\n",
       "      <th>Tenure</th>\n",
       "      <th>Balance</th>\n",
       "      <th>NumOfProducts</th>\n",
       "      <th>HasCrCard</th>\n",
       "      <th>IsActiveMember</th>\n",
       "      <th>EstimatedSalary</th>\n",
       "      <th>Geography_Germany</th>\n",
       "      <th>Geography_Spain</th>\n",
       "      <th>Gender_Male</th>\n",
       "    </tr>\n",
       "  </thead>\n",
       "  <tbody>\n",
       "    <tr>\n",
       "      <th>2694</th>\n",
       "      <td>628</td>\n",
       "      <td>29</td>\n",
       "      <td>3</td>\n",
       "      <td>113146.98</td>\n",
       "      <td>2</td>\n",
       "      <td>0</td>\n",
       "      <td>1</td>\n",
       "      <td>124749.08</td>\n",
       "      <td>1</td>\n",
       "      <td>0</td>\n",
       "      <td>1</td>\n",
       "    </tr>\n",
       "    <tr>\n",
       "      <th>5140</th>\n",
       "      <td>626</td>\n",
       "      <td>29</td>\n",
       "      <td>4</td>\n",
       "      <td>105767.28</td>\n",
       "      <td>2</td>\n",
       "      <td>0</td>\n",
       "      <td>0</td>\n",
       "      <td>41104.82</td>\n",
       "      <td>0</td>\n",
       "      <td>0</td>\n",
       "      <td>0</td>\n",
       "    </tr>\n",
       "    <tr>\n",
       "      <th>2568</th>\n",
       "      <td>612</td>\n",
       "      <td>47</td>\n",
       "      <td>6</td>\n",
       "      <td>130024.87</td>\n",
       "      <td>1</td>\n",
       "      <td>1</td>\n",
       "      <td>1</td>\n",
       "      <td>45750.21</td>\n",
       "      <td>1</td>\n",
       "      <td>0</td>\n",
       "      <td>0</td>\n",
       "    </tr>\n",
       "    <tr>\n",
       "      <th>3671</th>\n",
       "      <td>646</td>\n",
       "      <td>52</td>\n",
       "      <td>6</td>\n",
       "      <td>111739.40</td>\n",
       "      <td>2</td>\n",
       "      <td>0</td>\n",
       "      <td>1</td>\n",
       "      <td>68367.18</td>\n",
       "      <td>1</td>\n",
       "      <td>0</td>\n",
       "      <td>0</td>\n",
       "    </tr>\n",
       "    <tr>\n",
       "      <th>7427</th>\n",
       "      <td>714</td>\n",
       "      <td>33</td>\n",
       "      <td>8</td>\n",
       "      <td>122017.19</td>\n",
       "      <td>1</td>\n",
       "      <td>0</td>\n",
       "      <td>0</td>\n",
       "      <td>162515.17</td>\n",
       "      <td>0</td>\n",
       "      <td>1</td>\n",
       "      <td>1</td>\n",
       "    </tr>\n",
       "  </tbody>\n",
       "</table>\n",
       "</div>"
      ],
      "text/plain": [
       "      CreditScore  Age  Tenure    Balance  NumOfProducts  HasCrCard  \\\n",
       "2694          628   29       3  113146.98              2          0   \n",
       "5140          626   29       4  105767.28              2          0   \n",
       "2568          612   47       6  130024.87              1          1   \n",
       "3671          646   52       6  111739.40              2          0   \n",
       "7427          714   33       8  122017.19              1          0   \n",
       "\n",
       "      IsActiveMember  EstimatedSalary  Geography_Germany  Geography_Spain  \\\n",
       "2694               1        124749.08                  1                0   \n",
       "5140               0         41104.82                  0                0   \n",
       "2568               1         45750.21                  1                0   \n",
       "3671               1         68367.18                  1                0   \n",
       "7427               0        162515.17                  0                1   \n",
       "\n",
       "      Gender_Male  \n",
       "2694            1  \n",
       "5140            0  \n",
       "2568            0  \n",
       "3671            0  \n",
       "7427            1  "
      ]
     },
     "execution_count": 27,
     "metadata": {},
     "output_type": "execute_result"
    }
   ],
   "source": [
    "X_train.head()"
   ]
  },
  {
   "cell_type": "code",
   "execution_count": 28,
   "id": "8197d934",
   "metadata": {
    "execution": {
     "iopub.execute_input": "2022-09-04T11:20:53.279807Z",
     "iopub.status.busy": "2022-09-04T11:20:53.278976Z",
     "iopub.status.idle": "2022-09-04T11:20:53.285886Z",
     "shell.execute_reply": "2022-09-04T11:20:53.284436Z"
    },
    "papermill": {
     "duration": 0.028898,
     "end_time": "2022-09-04T11:20:53.288109",
     "exception": false,
     "start_time": "2022-09-04T11:20:53.259211",
     "status": "completed"
    },
    "tags": []
   },
   "outputs": [
    {
     "name": "stdout",
     "output_type": "stream",
     "text": [
      "(8000, 11)\n",
      "(2000, 11)\n",
      "(8000,)\n",
      "(2000,)\n"
     ]
    }
   ],
   "source": [
    "print(X_train.shape)\n",
    "print(X_test.shape)\n",
    "print(y_train.shape)\n",
    "print(y_test.shape)"
   ]
  },
  {
   "cell_type": "code",
   "execution_count": 29,
   "id": "b1b3fbf9",
   "metadata": {
    "execution": {
     "iopub.execute_input": "2022-09-04T11:20:53.327296Z",
     "iopub.status.busy": "2022-09-04T11:20:53.326467Z",
     "iopub.status.idle": "2022-09-04T11:20:53.340188Z",
     "shell.execute_reply": "2022-09-04T11:20:53.338784Z"
    },
    "papermill": {
     "duration": 0.036384,
     "end_time": "2022-09-04T11:20:53.343031",
     "exception": false,
     "start_time": "2022-09-04T11:20:53.306647",
     "status": "completed"
    },
    "tags": []
   },
   "outputs": [],
   "source": [
    "# Apply scaling\n",
    "\n",
    "scaler = StandardScaler()\n",
    "\n",
    "X_train_scaler = scaler.fit_transform(X=X_train)\n",
    "X_test_scaler = scaler.transform(X=X_test)"
   ]
  },
  {
   "cell_type": "code",
   "execution_count": 30,
   "id": "c7f15751",
   "metadata": {
    "execution": {
     "iopub.execute_input": "2022-09-04T11:20:53.382936Z",
     "iopub.status.busy": "2022-09-04T11:20:53.382416Z",
     "iopub.status.idle": "2022-09-04T11:20:53.391319Z",
     "shell.execute_reply": "2022-09-04T11:20:53.390127Z"
    },
    "papermill": {
     "duration": 0.032081,
     "end_time": "2022-09-04T11:20:53.393810",
     "exception": false,
     "start_time": "2022-09-04T11:20:53.361729",
     "status": "completed"
    },
    "tags": []
   },
   "outputs": [
    {
     "data": {
      "text/plain": [
       "array([[-0.23082038, -0.94449979, -0.70174202, ...,  1.71490137,\n",
       "        -0.57273139,  0.91509065],\n",
       "       [-0.25150912, -0.94449979, -0.35520275, ..., -0.58312392,\n",
       "        -0.57273139, -1.09278791],\n",
       "       [-0.3963303 ,  0.77498705,  0.33787579, ...,  1.71490137,\n",
       "        -0.57273139, -1.09278791],\n",
       "       ...,\n",
       "       [ 0.22433188,  0.58393295,  1.3774936 , ..., -0.58312392,\n",
       "        -0.57273139, -1.09278791],\n",
       "       [ 0.13123255,  0.01077067,  1.03095433, ..., -0.58312392,\n",
       "        -0.57273139, -1.09278791],\n",
       "       [ 1.1656695 ,  0.29735181,  0.33787579, ...,  1.71490137,\n",
       "        -0.57273139,  0.91509065]])"
      ]
     },
     "execution_count": 30,
     "metadata": {},
     "output_type": "execute_result"
    }
   ],
   "source": [
    "X_train_scaler"
   ]
  },
  {
   "cell_type": "code",
   "execution_count": 31,
   "id": "de7a7611",
   "metadata": {
    "execution": {
     "iopub.execute_input": "2022-09-04T11:20:53.433084Z",
     "iopub.status.busy": "2022-09-04T11:20:53.432642Z",
     "iopub.status.idle": "2022-09-04T11:20:53.440524Z",
     "shell.execute_reply": "2022-09-04T11:20:53.439318Z"
    },
    "papermill": {
     "duration": 0.030264,
     "end_time": "2022-09-04T11:20:53.442830",
     "exception": false,
     "start_time": "2022-09-04T11:20:53.412566",
     "status": "completed"
    },
    "tags": []
   },
   "outputs": [
    {
     "data": {
      "text/plain": [
       "(8000, 11)"
      ]
     },
     "execution_count": 31,
     "metadata": {},
     "output_type": "execute_result"
    }
   ],
   "source": [
    "X_train_scaler.shape"
   ]
  },
  {
   "cell_type": "code",
   "execution_count": 32,
   "id": "20fc736d",
   "metadata": {
    "execution": {
     "iopub.execute_input": "2022-09-04T11:20:53.482880Z",
     "iopub.status.busy": "2022-09-04T11:20:53.482468Z",
     "iopub.status.idle": "2022-09-04T11:20:53.489191Z",
     "shell.execute_reply": "2022-09-04T11:20:53.488121Z"
    },
    "papermill": {
     "duration": 0.029981,
     "end_time": "2022-09-04T11:20:53.491513",
     "exception": false,
     "start_time": "2022-09-04T11:20:53.461532",
     "status": "completed"
    },
    "tags": []
   },
   "outputs": [
    {
     "data": {
      "text/plain": [
       "(2000, 11)"
      ]
     },
     "execution_count": 32,
     "metadata": {},
     "output_type": "execute_result"
    }
   ],
   "source": [
    "X_test_scaler.shape"
   ]
  },
  {
   "cell_type": "markdown",
   "id": "f87f696b",
   "metadata": {
    "papermill": {
     "duration": 0.018334,
     "end_time": "2022-09-04T11:20:53.528671",
     "exception": false,
     "start_time": "2022-09-04T11:20:53.510337",
     "status": "completed"
    },
    "tags": []
   },
   "source": [
    "## Let's create our ANN Model"
   ]
  },
  {
   "cell_type": "code",
   "execution_count": 33,
   "id": "804aa7a9",
   "metadata": {
    "execution": {
     "iopub.execute_input": "2022-09-04T11:20:53.568343Z",
     "iopub.status.busy": "2022-09-04T11:20:53.567937Z",
     "iopub.status.idle": "2022-09-04T11:20:53.696499Z",
     "shell.execute_reply": "2022-09-04T11:20:53.695244Z"
    },
    "papermill": {
     "duration": 0.15148,
     "end_time": "2022-09-04T11:20:53.699169",
     "exception": false,
     "start_time": "2022-09-04T11:20:53.547689",
     "status": "completed"
    },
    "tags": []
   },
   "outputs": [
    {
     "name": "stderr",
     "output_type": "stream",
     "text": [
      "2022-09-04 11:20:53.606917: I tensorflow/core/common_runtime/process_util.cc:146] Creating new thread pool with default inter op setting: 2. Tune using inter_op_parallelism_threads for best performance.\n"
     ]
    }
   ],
   "source": [
    "model = Sequential()\n",
    "\n",
    "model.add(layer=Dense(units=11, activation=\"sigmoid\", input_dim=11))\n",
    "model.add(layer=Dense(units=22, activation=\"tanh\"))\n",
    "# model.add(layer=Dense(units=22, activation=\"relu\"))\n",
    "model.add(layer=Dense(units=1, activation=\"sigmoid\"))"
   ]
  },
  {
   "cell_type": "code",
   "execution_count": 34,
   "id": "022ef5f4",
   "metadata": {
    "execution": {
     "iopub.execute_input": "2022-09-04T11:20:53.739010Z",
     "iopub.status.busy": "2022-09-04T11:20:53.738573Z",
     "iopub.status.idle": "2022-09-04T11:20:54.901062Z",
     "shell.execute_reply": "2022-09-04T11:20:54.899765Z"
    },
    "papermill": {
     "duration": 1.185137,
     "end_time": "2022-09-04T11:20:54.903568",
     "exception": false,
     "start_time": "2022-09-04T11:20:53.718431",
     "status": "completed"
    },
    "tags": []
   },
   "outputs": [
    {
     "data": {
      "image/png": "[encoded data removed]",
      "text/plain": [
       "<IPython.core.display.Image object>"
      ]
     },
     "execution_count": 34,
     "metadata": {},
     "output_type": "execute_result"
    }
   ],
   "source": [
    "plot_model(model=model, show_shapes=True, show_dtype=True)"
   ]
  },
  {
   "cell_type": "code",
   "execution_count": 35,
   "id": "deaad226",
   "metadata": {
    "execution": {
     "iopub.execute_input": "2022-09-04T11:20:54.946436Z",
     "iopub.status.busy": "2022-09-04T11:20:54.945617Z",
     "iopub.status.idle": "2022-09-04T11:20:54.952736Z",
     "shell.execute_reply": "2022-09-04T11:20:54.951458Z"
    },
    "papermill": {
     "duration": 0.032159,
     "end_time": "2022-09-04T11:20:54.955611",
     "exception": false,
     "start_time": "2022-09-04T11:20:54.923452",
     "status": "completed"
    },
    "tags": []
   },
   "outputs": [
    {
     "name": "stdout",
     "output_type": "stream",
     "text": [
      "Model: \"sequential\"\n",
      "_________________________________________________________________\n",
      "Layer (type)                 Output Shape              Param #   \n",
      "=================================================================\n",
      "dense (Dense)                (None, 11)                132       \n",
      "_________________________________________________________________\n",
      "dense_1 (Dense)              (None, 22)                264       \n",
      "_________________________________________________________________\n",
      "dense_2 (Dense)              (None, 1)                 23        \n",
      "=================================================================\n",
      "Total params: 419\n",
      "Trainable params: 419\n",
      "Non-trainable params: 0\n",
      "_________________________________________________________________\n"
     ]
    }
   ],
   "source": [
    "model.summary()"
   ]
  },
  {
   "cell_type": "code",
   "execution_count": 36,
   "id": "4eec5bd7",
   "metadata": {
    "execution": {
     "iopub.execute_input": "2022-09-04T11:20:54.996608Z",
     "iopub.status.busy": "2022-09-04T11:20:54.996173Z",
     "iopub.status.idle": "2022-09-04T11:20:55.016410Z",
     "shell.execute_reply": "2022-09-04T11:20:55.015241Z"
    },
    "papermill": {
     "duration": 0.043834,
     "end_time": "2022-09-04T11:20:55.019190",
     "exception": false,
     "start_time": "2022-09-04T11:20:54.975356",
     "status": "completed"
    },
    "tags": []
   },
   "outputs": [],
   "source": [
    "# \"hinge\" loss used basically in logistics regression\n",
    "\n",
    "# model.compile(optimizer=\"sgd\", loss=\"hinge\", metrics=['accuracy'])\n",
    "\n",
    "# model.compile(loss='hinge',optimizer='sgd',metrics=['accuracy','Precision','Poisson'])\n",
    "\n",
    "model.compile(optimizer=\"Adam\", loss=\"binary_crossentropy\", metrics=['accuracy'])"
   ]
  },
  {
   "cell_type": "code",
   "execution_count": 37,
   "id": "7c409c1f",
   "metadata": {
    "execution": {
     "iopub.execute_input": "2022-09-04T11:20:55.060085Z",
     "iopub.status.busy": "2022-09-04T11:20:55.059664Z",
     "iopub.status.idle": "2022-09-04T11:21:37.948989Z",
     "shell.execute_reply": "2022-09-04T11:21:37.947095Z"
    },
    "papermill": {
     "duration": 42.912888,
     "end_time": "2022-09-04T11:21:37.951761",
     "exception": false,
     "start_time": "2022-09-04T11:20:55.038873",
     "status": "completed"
    },
    "tags": []
   },
   "outputs": [
    {
     "name": "stderr",
     "output_type": "stream",
     "text": [
      "2022-09-04 11:20:55.145326: I tensorflow/compiler/mlir/mlir_graph_optimization_pass.cc:185] None of the MLIR Optimization Passes are enabled (registered 2)\n"
     ]
    },
    {
     "name": "stdout",
     "output_type": "stream",
     "text": [
      "Epoch 1/100\n",
      "200/200 [==============================] - 1s 3ms/step - loss: 0.4836 - accuracy: 0.7972 - val_loss: 0.4563 - val_accuracy: 0.7975\n",
      "Epoch 2/100\n",
      "200/200 [==============================] - 0s 2ms/step - loss: 0.4400 - accuracy: 0.8075 - val_loss: 0.4360 - val_accuracy: 0.8087\n",
      "Epoch 3/100\n",
      "200/200 [==============================] - 0s 2ms/step - loss: 0.4289 - accuracy: 0.8111 - val_loss: 0.4321 - val_accuracy: 0.8069\n",
      "Epoch 4/100\n",
      "200/200 [==============================] - 0s 2ms/step - loss: 0.4265 - accuracy: 0.8130 - val_loss: 0.4307 - val_accuracy: 0.8050\n",
      "Epoch 5/100\n",
      "200/200 [==============================] - 0s 2ms/step - loss: 0.4251 - accuracy: 0.8125 - val_loss: 0.4303 - val_accuracy: 0.8094\n",
      "Epoch 6/100\n",
      "200/200 [==============================] - 0s 2ms/step - loss: 0.4234 - accuracy: 0.8152 - val_loss: 0.4294 - val_accuracy: 0.8156\n",
      "Epoch 7/100\n",
      "200/200 [==============================] - 0s 2ms/step - loss: 0.4228 - accuracy: 0.8142 - val_loss: 0.4271 - val_accuracy: 0.8106\n",
      "Epoch 8/100\n",
      "200/200 [==============================] - 0s 2ms/step - loss: 0.4209 - accuracy: 0.8170 - val_loss: 0.4258 - val_accuracy: 0.8069\n",
      "Epoch 9/100\n",
      "200/200 [==============================] - 0s 2ms/step - loss: 0.4191 - accuracy: 0.8198 - val_loss: 0.4230 - val_accuracy: 0.8119\n",
      "Epoch 10/100\n",
      "200/200 [==============================] - 0s 2ms/step - loss: 0.4168 - accuracy: 0.8250 - val_loss: 0.4209 - val_accuracy: 0.8188\n",
      "Epoch 11/100\n",
      "200/200 [==============================] - 0s 2ms/step - loss: 0.4150 - accuracy: 0.8225 - val_loss: 0.4193 - val_accuracy: 0.8181\n",
      "Epoch 12/100\n",
      "200/200 [==============================] - 0s 2ms/step - loss: 0.4128 - accuracy: 0.8252 - val_loss: 0.4154 - val_accuracy: 0.8238\n",
      "Epoch 13/100\n",
      "200/200 [==============================] - 0s 2ms/step - loss: 0.4098 - accuracy: 0.8281 - val_loss: 0.4107 - val_accuracy: 0.8225\n",
      "Epoch 14/100\n",
      "200/200 [==============================] - 0s 2ms/step - loss: 0.4072 - accuracy: 0.8270 - val_loss: 0.4066 - val_accuracy: 0.8244\n",
      "Epoch 15/100\n",
      "200/200 [==============================] - 0s 2ms/step - loss: 0.4018 - accuracy: 0.8319 - val_loss: 0.4013 - val_accuracy: 0.8306\n",
      "Epoch 16/100\n",
      "200/200 [==============================] - 0s 2ms/step - loss: 0.3973 - accuracy: 0.8358 - val_loss: 0.3960 - val_accuracy: 0.8281\n",
      "Epoch 17/100\n",
      "200/200 [==============================] - 0s 2ms/step - loss: 0.3916 - accuracy: 0.8411 - val_loss: 0.3885 - val_accuracy: 0.8363\n",
      "Epoch 18/100\n",
      "200/200 [==============================] - 0s 2ms/step - loss: 0.3853 - accuracy: 0.8411 - val_loss: 0.3813 - val_accuracy: 0.8419\n",
      "Epoch 19/100\n",
      "200/200 [==============================] - 0s 2ms/step - loss: 0.3789 - accuracy: 0.8462 - val_loss: 0.3754 - val_accuracy: 0.8425\n",
      "Epoch 20/100\n",
      "200/200 [==============================] - 0s 2ms/step - loss: 0.3728 - accuracy: 0.8466 - val_loss: 0.3685 - val_accuracy: 0.8500\n",
      "Epoch 21/100\n",
      "200/200 [==============================] - 0s 2ms/step - loss: 0.3664 - accuracy: 0.8505 - val_loss: 0.3632 - val_accuracy: 0.8469\n",
      "Epoch 22/100\n",
      "200/200 [==============================] - 0s 2ms/step - loss: 0.3621 - accuracy: 0.8523 - val_loss: 0.3581 - val_accuracy: 0.8469\n",
      "Epoch 23/100\n",
      "200/200 [==============================] - 0s 2ms/step - loss: 0.3585 - accuracy: 0.8536 - val_loss: 0.3557 - val_accuracy: 0.8469\n",
      "Epoch 24/100\n",
      "200/200 [==============================] - 0s 2ms/step - loss: 0.3540 - accuracy: 0.8564 - val_loss: 0.3511 - val_accuracy: 0.8525\n",
      "Epoch 25/100\n",
      "200/200 [==============================] - 0s 2ms/step - loss: 0.3505 - accuracy: 0.8602 - val_loss: 0.3484 - val_accuracy: 0.8537\n",
      "Epoch 26/100\n",
      "200/200 [==============================] - 0s 2ms/step - loss: 0.3479 - accuracy: 0.8592 - val_loss: 0.3499 - val_accuracy: 0.8500\n",
      "Epoch 27/100\n",
      "200/200 [==============================] - 1s 3ms/step - loss: 0.3464 - accuracy: 0.8614 - val_loss: 0.3455 - val_accuracy: 0.8556\n",
      "Epoch 28/100\n",
      "200/200 [==============================] - 1s 3ms/step - loss: 0.3451 - accuracy: 0.8600 - val_loss: 0.3448 - val_accuracy: 0.8550\n",
      "Epoch 29/100\n",
      "200/200 [==============================] - 0s 2ms/step - loss: 0.3439 - accuracy: 0.8611 - val_loss: 0.3449 - val_accuracy: 0.8506\n",
      "Epoch 30/100\n",
      "200/200 [==============================] - 0s 2ms/step - loss: 0.3429 - accuracy: 0.8614 - val_loss: 0.3432 - val_accuracy: 0.8537\n",
      "Epoch 31/100\n",
      "200/200 [==============================] - 0s 2ms/step - loss: 0.3426 - accuracy: 0.8592 - val_loss: 0.3485 - val_accuracy: 0.8562\n",
      "Epoch 32/100\n",
      "200/200 [==============================] - 0s 2ms/step - loss: 0.3414 - accuracy: 0.8619 - val_loss: 0.3436 - val_accuracy: 0.8525\n",
      "Epoch 33/100\n",
      "200/200 [==============================] - 0s 2ms/step - loss: 0.3408 - accuracy: 0.8620 - val_loss: 0.3433 - val_accuracy: 0.8575\n",
      "Epoch 34/100\n",
      "200/200 [==============================] - 0s 2ms/step - loss: 0.3397 - accuracy: 0.8637 - val_loss: 0.3432 - val_accuracy: 0.8556\n",
      "Epoch 35/100\n",
      "200/200 [==============================] - 0s 2ms/step - loss: 0.3399 - accuracy: 0.8622 - val_loss: 0.3425 - val_accuracy: 0.8525\n",
      "Epoch 36/100\n",
      "200/200 [==============================] - 0s 2ms/step - loss: 0.3393 - accuracy: 0.8648 - val_loss: 0.3451 - val_accuracy: 0.8512\n",
      "Epoch 37/100\n",
      "200/200 [==============================] - 0s 2ms/step - loss: 0.3390 - accuracy: 0.8630 - val_loss: 0.3422 - val_accuracy: 0.8575\n",
      "Epoch 38/100\n",
      "200/200 [==============================] - 0s 2ms/step - loss: 0.3382 - accuracy: 0.8608 - val_loss: 0.3419 - val_accuracy: 0.8556\n",
      "Epoch 39/100\n",
      "200/200 [==============================] - 0s 2ms/step - loss: 0.3379 - accuracy: 0.8622 - val_loss: 0.3449 - val_accuracy: 0.8494\n",
      "Epoch 40/100\n",
      "200/200 [==============================] - 0s 2ms/step - loss: 0.3372 - accuracy: 0.8627 - val_loss: 0.3414 - val_accuracy: 0.8544\n",
      "Epoch 41/100\n",
      "200/200 [==============================] - 0s 2ms/step - loss: 0.3367 - accuracy: 0.8641 - val_loss: 0.3431 - val_accuracy: 0.8562\n",
      "Epoch 42/100\n",
      "200/200 [==============================] - 0s 2ms/step - loss: 0.3376 - accuracy: 0.8641 - val_loss: 0.3415 - val_accuracy: 0.8581\n",
      "Epoch 43/100\n",
      "200/200 [==============================] - 0s 2ms/step - loss: 0.3366 - accuracy: 0.8642 - val_loss: 0.3433 - val_accuracy: 0.8537\n",
      "Epoch 44/100\n",
      "200/200 [==============================] - 0s 2ms/step - loss: 0.3365 - accuracy: 0.8620 - val_loss: 0.3440 - val_accuracy: 0.8519\n",
      "Epoch 45/100\n",
      "200/200 [==============================] - 0s 2ms/step - loss: 0.3356 - accuracy: 0.8631 - val_loss: 0.3414 - val_accuracy: 0.8550\n",
      "Epoch 46/100\n",
      "200/200 [==============================] - 0s 2ms/step - loss: 0.3365 - accuracy: 0.8641 - val_loss: 0.3417 - val_accuracy: 0.8575\n",
      "Epoch 47/100\n",
      "200/200 [==============================] - 0s 2ms/step - loss: 0.3352 - accuracy: 0.8644 - val_loss: 0.3429 - val_accuracy: 0.8550\n",
      "Epoch 48/100\n",
      "200/200 [==============================] - 0s 2ms/step - loss: 0.3359 - accuracy: 0.8644 - val_loss: 0.3437 - val_accuracy: 0.8519\n",
      "Epoch 49/100\n",
      "200/200 [==============================] - 0s 2ms/step - loss: 0.3349 - accuracy: 0.8655 - val_loss: 0.3424 - val_accuracy: 0.8531\n",
      "Epoch 50/100\n",
      "200/200 [==============================] - 0s 2ms/step - loss: 0.3355 - accuracy: 0.8630 - val_loss: 0.3456 - val_accuracy: 0.8519\n",
      "Epoch 51/100\n",
      "200/200 [==============================] - 0s 2ms/step - loss: 0.3344 - accuracy: 0.8653 - val_loss: 0.3409 - val_accuracy: 0.8550\n",
      "Epoch 52/100\n",
      "200/200 [==============================] - 0s 2ms/step - loss: 0.3341 - accuracy: 0.8648 - val_loss: 0.3450 - val_accuracy: 0.8494\n",
      "Epoch 53/100\n",
      "200/200 [==============================] - 0s 2ms/step - loss: 0.3342 - accuracy: 0.8647 - val_loss: 0.3428 - val_accuracy: 0.8519\n",
      "Epoch 54/100\n",
      "200/200 [==============================] - 0s 2ms/step - loss: 0.3350 - accuracy: 0.8636 - val_loss: 0.3418 - val_accuracy: 0.8556\n",
      "Epoch 55/100\n",
      "200/200 [==============================] - 0s 2ms/step - loss: 0.3341 - accuracy: 0.8628 - val_loss: 0.3454 - val_accuracy: 0.8550\n",
      "Epoch 56/100\n",
      "200/200 [==============================] - 0s 2ms/step - loss: 0.3341 - accuracy: 0.8637 - val_loss: 0.3423 - val_accuracy: 0.8537\n",
      "Epoch 57/100\n",
      "200/200 [==============================] - 0s 2ms/step - loss: 0.3335 - accuracy: 0.8642 - val_loss: 0.3458 - val_accuracy: 0.8506\n",
      "Epoch 58/100\n",
      "200/200 [==============================] - 0s 2ms/step - loss: 0.3336 - accuracy: 0.8625 - val_loss: 0.3441 - val_accuracy: 0.8512\n",
      "Epoch 59/100\n",
      "200/200 [==============================] - 0s 2ms/step - loss: 0.3330 - accuracy: 0.8620 - val_loss: 0.3466 - val_accuracy: 0.8581\n",
      "Epoch 60/100\n",
      "200/200 [==============================] - 0s 2ms/step - loss: 0.3325 - accuracy: 0.8656 - val_loss: 0.3444 - val_accuracy: 0.8556\n",
      "Epoch 61/100\n",
      "200/200 [==============================] - 0s 2ms/step - loss: 0.3329 - accuracy: 0.8645 - val_loss: 0.3415 - val_accuracy: 0.8575\n",
      "Epoch 62/100\n",
      "200/200 [==============================] - 0s 2ms/step - loss: 0.3339 - accuracy: 0.8628 - val_loss: 0.3435 - val_accuracy: 0.8519\n",
      "Epoch 63/100\n",
      "200/200 [==============================] - 0s 2ms/step - loss: 0.3328 - accuracy: 0.8633 - val_loss: 0.3419 - val_accuracy: 0.8531\n",
      "Epoch 64/100\n",
      "200/200 [==============================] - 0s 2ms/step - loss: 0.3334 - accuracy: 0.8636 - val_loss: 0.3426 - val_accuracy: 0.8550\n",
      "Epoch 65/100\n",
      "200/200 [==============================] - 0s 2ms/step - loss: 0.3321 - accuracy: 0.8634 - val_loss: 0.3415 - val_accuracy: 0.8569\n",
      "Epoch 66/100\n",
      "200/200 [==============================] - 0s 2ms/step - loss: 0.3323 - accuracy: 0.8642 - val_loss: 0.3454 - val_accuracy: 0.8575\n",
      "Epoch 67/100\n",
      "200/200 [==============================] - 0s 2ms/step - loss: 0.3323 - accuracy: 0.8666 - val_loss: 0.3465 - val_accuracy: 0.8500\n",
      "Epoch 68/100\n",
      "200/200 [==============================] - 0s 2ms/step - loss: 0.3325 - accuracy: 0.8642 - val_loss: 0.3438 - val_accuracy: 0.8519\n",
      "Epoch 69/100\n",
      "200/200 [==============================] - 0s 2ms/step - loss: 0.3316 - accuracy: 0.8655 - val_loss: 0.3432 - val_accuracy: 0.8506\n",
      "Epoch 70/100\n",
      "200/200 [==============================] - 0s 2ms/step - loss: 0.3329 - accuracy: 0.8648 - val_loss: 0.3422 - val_accuracy: 0.8519\n",
      "Epoch 71/100\n",
      "200/200 [==============================] - 0s 2ms/step - loss: 0.3321 - accuracy: 0.8642 - val_loss: 0.3476 - val_accuracy: 0.8487\n",
      "Epoch 72/100\n",
      "200/200 [==============================] - 0s 2ms/step - loss: 0.3324 - accuracy: 0.8652 - val_loss: 0.3475 - val_accuracy: 0.8481\n",
      "Epoch 73/100\n",
      "200/200 [==============================] - 0s 2ms/step - loss: 0.3318 - accuracy: 0.8672 - val_loss: 0.3438 - val_accuracy: 0.8544\n",
      "Epoch 74/100\n",
      "200/200 [==============================] - 0s 2ms/step - loss: 0.3315 - accuracy: 0.8648 - val_loss: 0.3456 - val_accuracy: 0.8506\n",
      "Epoch 75/100\n",
      "200/200 [==============================] - 0s 2ms/step - loss: 0.3319 - accuracy: 0.8641 - val_loss: 0.3440 - val_accuracy: 0.8512\n",
      "Epoch 76/100\n",
      "200/200 [==============================] - 0s 2ms/step - loss: 0.3308 - accuracy: 0.8666 - val_loss: 0.3439 - val_accuracy: 0.8544\n",
      "Epoch 77/100\n",
      "200/200 [==============================] - 0s 2ms/step - loss: 0.3311 - accuracy: 0.8659 - val_loss: 0.3426 - val_accuracy: 0.8531\n",
      "Epoch 78/100\n",
      "200/200 [==============================] - 0s 2ms/step - loss: 0.3308 - accuracy: 0.8653 - val_loss: 0.3426 - val_accuracy: 0.8519\n",
      "Epoch 79/100\n",
      "200/200 [==============================] - 0s 2ms/step - loss: 0.3310 - accuracy: 0.8670 - val_loss: 0.3439 - val_accuracy: 0.8562\n",
      "Epoch 80/100\n",
      "200/200 [==============================] - 0s 2ms/step - loss: 0.3308 - accuracy: 0.8672 - val_loss: 0.3427 - val_accuracy: 0.8525\n",
      "Epoch 81/100\n",
      "200/200 [==============================] - 0s 2ms/step - loss: 0.3309 - accuracy: 0.8659 - val_loss: 0.3448 - val_accuracy: 0.8519\n",
      "Epoch 82/100\n",
      "200/200 [==============================] - 0s 2ms/step - loss: 0.3306 - accuracy: 0.8659 - val_loss: 0.3519 - val_accuracy: 0.8469\n",
      "Epoch 83/100\n",
      "200/200 [==============================] - 0s 2ms/step - loss: 0.3314 - accuracy: 0.8633 - val_loss: 0.3484 - val_accuracy: 0.8506\n",
      "Epoch 84/100\n",
      "200/200 [==============================] - 0s 2ms/step - loss: 0.3304 - accuracy: 0.8658 - val_loss: 0.3423 - val_accuracy: 0.8544\n",
      "Epoch 85/100\n",
      "200/200 [==============================] - 0s 2ms/step - loss: 0.3292 - accuracy: 0.8656 - val_loss: 0.3458 - val_accuracy: 0.8487\n",
      "Epoch 86/100\n",
      "200/200 [==============================] - 0s 2ms/step - loss: 0.3306 - accuracy: 0.8652 - val_loss: 0.3576 - val_accuracy: 0.8475\n",
      "Epoch 87/100\n",
      "200/200 [==============================] - 0s 2ms/step - loss: 0.3302 - accuracy: 0.8659 - val_loss: 0.3429 - val_accuracy: 0.8544\n",
      "Epoch 88/100\n",
      "200/200 [==============================] - 0s 2ms/step - loss: 0.3301 - accuracy: 0.8673 - val_loss: 0.3435 - val_accuracy: 0.8537\n",
      "Epoch 89/100\n",
      "200/200 [==============================] - 0s 2ms/step - loss: 0.3295 - accuracy: 0.8659 - val_loss: 0.3457 - val_accuracy: 0.8537\n",
      "Epoch 90/100\n",
      "200/200 [==============================] - 0s 2ms/step - loss: 0.3309 - accuracy: 0.8667 - val_loss: 0.3450 - val_accuracy: 0.8562\n",
      "Epoch 91/100\n",
      "200/200 [==============================] - 0s 2ms/step - loss: 0.3302 - accuracy: 0.8658 - val_loss: 0.3450 - val_accuracy: 0.8569\n",
      "Epoch 92/100\n",
      "200/200 [==============================] - 0s 2ms/step - loss: 0.3297 - accuracy: 0.8661 - val_loss: 0.3449 - val_accuracy: 0.8537\n",
      "Epoch 93/100\n",
      "200/200 [==============================] - 0s 2ms/step - loss: 0.3297 - accuracy: 0.8666 - val_loss: 0.3436 - val_accuracy: 0.8500\n",
      "Epoch 94/100\n",
      "200/200 [==============================] - 0s 2ms/step - loss: 0.3296 - accuracy: 0.8656 - val_loss: 0.3431 - val_accuracy: 0.8525\n",
      "Epoch 95/100\n",
      "200/200 [==============================] - 0s 2ms/step - loss: 0.3293 - accuracy: 0.8661 - val_loss: 0.3448 - val_accuracy: 0.8512\n",
      "Epoch 96/100\n",
      "200/200 [==============================] - 0s 2ms/step - loss: 0.3295 - accuracy: 0.8661 - val_loss: 0.3456 - val_accuracy: 0.8550\n",
      "Epoch 97/100\n",
      "200/200 [==============================] - 0s 2ms/step - loss: 0.3292 - accuracy: 0.8666 - val_loss: 0.3445 - val_accuracy: 0.8512\n",
      "Epoch 98/100\n",
      "200/200 [==============================] - 0s 2ms/step - loss: 0.3293 - accuracy: 0.8659 - val_loss: 0.3441 - val_accuracy: 0.8512\n",
      "Epoch 99/100\n",
      "200/200 [==============================] - 0s 2ms/step - loss: 0.3295 - accuracy: 0.8656 - val_loss: 0.3439 - val_accuracy: 0.8531\n",
      "Epoch 100/100\n",
      "200/200 [==============================] - 0s 2ms/step - loss: 0.3285 - accuracy: 0.8664 - val_loss: 0.3428 - val_accuracy: 0.8537\n"
     ]
    }
   ],
   "source": [
    "history = model.fit(x=X_train_scaler, y=y_train, epochs=100, verbose=1, validation_split=0.2)"
   ]
  },
  {
   "cell_type": "code",
   "execution_count": 38,
   "id": "072288a2",
   "metadata": {
    "execution": {
     "iopub.execute_input": "2022-09-04T11:21:38.091885Z",
     "iopub.status.busy": "2022-09-04T11:21:38.091481Z",
     "iopub.status.idle": "2022-09-04T11:21:38.101730Z",
     "shell.execute_reply": "2022-09-04T11:21:38.100572Z"
    },
    "papermill": {
     "duration": 0.083212,
     "end_time": "2022-09-04T11:21:38.104095",
     "exception": false,
     "start_time": "2022-09-04T11:21:38.020883",
     "status": "completed"
    },
    "tags": []
   },
   "outputs": [
    {
     "data": {
      "text/plain": [
       "[array([[-0.69582283,  0.0588897 , -0.23900044, -0.5130238 , -0.19235505,\n",
       "          0.5798768 , -0.2512324 ,  0.06181419,  0.09549879,  0.14005737,\n",
       "         -0.11735719],\n",
       "        [-0.08473849,  0.5980391 , -0.48530167,  0.77464676,  0.29915652,\n",
       "         -0.56698996, -0.04010043, -1.6221746 , -0.3252063 , -1.7360097 ,\n",
       "          1.7869735 ],\n",
       "        [-0.09212466,  0.12283023, -0.19030993,  0.2245074 ,  0.10892733,\n",
       "          0.41228497, -0.36865488,  0.10716504, -0.246156  ,  0.12971681,\n",
       "          0.18162762],\n",
       "        [-0.45214424,  0.49518478,  0.33704016, -0.30317768, -0.1268696 ,\n",
       "          0.24069329,  0.46969458, -0.35863596,  0.20513336,  0.12517354,\n",
       "         -0.16013698],\n",
       "        [-0.50631785,  1.992722  ,  0.94413227, -1.3565878 , -0.18842474,\n",
       "          0.83389544,  0.39367855, -0.5571374 , -0.80240226, -0.15193307,\n",
       "         -0.14066528],\n",
       "        [-0.3572107 ,  0.01581055,  0.05282212,  0.3882273 ,  0.5589375 ,\n",
       "          0.118762  , -0.21516868,  0.49787065,  0.15074022,  0.23297603,\n",
       "          0.4143753 ],\n",
       "        [ 0.90518063,  0.11685169,  0.33630866, -0.01749474,  1.3184568 ,\n",
       "         -0.37395132, -0.6192597 , -0.560369  ,  0.6856045 , -0.12996566,\n",
       "          0.8233313 ],\n",
       "        [-0.04586908, -0.04442491,  0.02355957, -0.0808479 ,  0.3073293 ,\n",
       "         -0.39738348,  0.51153827, -0.2273229 , -0.31132603, -0.29634744,\n",
       "         -0.13712585],\n",
       "        [-0.41404954, -0.3352218 , -0.12913479,  0.06397353,  0.29996833,\n",
       "          0.01829549,  0.29287323,  0.36186364,  0.6386396 , -0.36831665,\n",
       "          0.07701134],\n",
       "        [ 0.24286544,  0.09542283, -0.03238606, -0.01911292,  0.25857624,\n",
       "          0.27059573,  0.13748354,  0.24920881, -0.31872934,  0.54131   ,\n",
       "          0.40762794],\n",
       "        [-0.02136439,  0.00730983, -0.07549366, -0.20454885, -0.02721739,\n",
       "         -0.25352165, -0.42864352, -0.01488961, -0.28181183, -0.11826348,\n",
       "          0.04552854]], dtype=float32),\n",
       " array([ 0.22263974,  0.88439673, -1.410014  , -0.20334417, -0.4690698 ,\n",
       "        -0.5142519 , -0.12758942,  0.32612944,  0.29431203,  0.17339419,\n",
       "        -0.26689982], dtype=float32)]"
      ]
     },
     "execution_count": 38,
     "metadata": {},
     "output_type": "execute_result"
    }
   ],
   "source": [
    "# print the weights\n",
    "\n",
    "model.layers[0].get_weights()"
   ]
  },
  {
   "cell_type": "code",
   "execution_count": 39,
   "id": "87a5d3d2",
   "metadata": {
    "execution": {
     "iopub.execute_input": "2022-09-04T11:21:38.247114Z",
     "iopub.status.busy": "2022-09-04T11:21:38.245970Z",
     "iopub.status.idle": "2022-09-04T11:21:38.257033Z",
     "shell.execute_reply": "2022-09-04T11:21:38.255942Z"
    },
    "papermill": {
     "duration": 0.085903,
     "end_time": "2022-09-04T11:21:38.259291",
     "exception": false,
     "start_time": "2022-09-04T11:21:38.173388",
     "status": "completed"
    },
    "tags": []
   },
   "outputs": [
    {
     "data": {
      "text/plain": [
       "[array([[-0.21748145,  0.356953  ,  0.12251067,  0.43986514, -0.27927658,\n",
       "         -0.37739256, -0.23106785, -0.30227718,  0.27009046, -0.17295806,\n",
       "          0.12459736,  0.34424907, -0.15956683,  0.22473186, -0.21904978,\n",
       "          0.10840154, -0.15185232, -0.22404166, -0.2826511 , -0.20510449,\n",
       "         -0.16207957,  0.16601673],\n",
       "        [ 1.0561771 , -0.7912645 ,  0.5349694 ,  0.76227295, -0.700391  ,\n",
       "         -0.72877043,  0.2674382 , -0.3466447 , -1.4929223 , -0.8250191 ,\n",
       "         -0.52228963,  0.41922796, -0.939667  , -0.24987765,  0.78659093,\n",
       "         -0.03015314,  0.5421644 , -0.5850246 , -0.71797276,  0.20576347,\n",
       "         -0.39809367,  0.36568817],\n",
       "        [ 0.2937906 , -0.8285672 , -0.67863876, -0.30589026,  0.78016645,\n",
       "          0.8972389 , -0.3963049 ,  0.5342032 , -0.9451151 ,  0.20912588,\n",
       "          0.5672533 , -0.01862898, -0.36439204,  0.4403965 , -0.50499994,\n",
       "          0.82271856, -0.49271226,  0.6808029 ,  0.9507726 ,  0.444213  ,\n",
       "          0.5915973 , -0.83738726],\n",
       "        [-0.02525492,  0.47880533,  0.03075596, -0.02612567,  0.21213591,\n",
       "          0.16042835, -0.01483142,  0.49412876,  0.4550179 ,  0.33318081,\n",
       "          0.28761694, -0.42614472,  0.5439104 ,  0.37961054, -0.32135892,\n",
       "         -0.11439093, -0.22283366,  0.2538782 , -0.33565015,  0.43845496,\n",
       "         -0.39812484,  0.25171128],\n",
       "        [-0.20124921, -0.48912767,  0.5164213 ,  0.27967438, -0.38052216,\n",
       "          0.0393507 ,  0.31742096, -0.51055455, -0.2891074 , -0.0928297 ,\n",
       "         -0.37087908,  0.52147186, -0.2259902 , -0.89381117,  0.07267934,\n",
       "         -0.6221337 ,  0.19412103, -0.6826313 ,  0.16126372,  0.977525  ,\n",
       "          0.34466654,  0.06769522],\n",
       "        [ 0.3068814 , -0.7353598 , -0.4598532 , -0.09759264,  0.33793214,\n",
       "          0.7453553 , -0.5151114 ,  0.4874936 , -0.63530684,  0.03613727,\n",
       "          0.71269435, -0.01338408, -0.00688905,  0.5915837 , -0.5323397 ,\n",
       "          0.15629898, -0.61944604,  0.06110984, -0.07465198, -0.07345802,\n",
       "          0.60631526, -0.36023876],\n",
       "        [ 0.31208766, -0.4807111 , -0.31086078, -0.62700063,  0.5971439 ,\n",
       "         -0.08798057, -0.02211494,  0.598469  , -0.4898926 , -0.11945618,\n",
       "         -0.00284853, -0.3579398 ,  0.15718319,  0.29314706,  0.05849325,\n",
       "          0.4191835 ,  0.05917769,  0.44390094,  0.52799124,  0.4382022 ,\n",
       "         -0.17051601,  0.17602447],\n",
       "        [ 0.19988357,  0.2794182 ,  0.5308277 ,  0.13148732,  0.11911408,\n",
       "         -0.32979587, -0.00683903,  0.5121852 ,  0.3026233 , -0.47076216,\n",
       "          0.28519568,  0.10402219, -0.14744595,  0.311455  ,  0.36025417,\n",
       "         -0.37495264,  0.4468164 , -0.5772778 , -0.08144903, -0.16842102,\n",
       "         -0.24311548,  0.5706611 ],\n",
       "        [-0.0762053 ,  0.10502177,  0.3723304 , -0.03361296,  0.4396983 ,\n",
       "         -0.10065177, -0.14080131,  0.42173806,  0.3060783 , -0.07856967,\n",
       "         -0.23540118,  0.38364646,  0.15506706,  0.3137125 ,  0.4222381 ,\n",
       "         -0.7931105 ,  0.49132356, -0.66421384,  0.4088389 ,  0.24024966,\n",
       "         -0.19407289,  0.21023583],\n",
       "        [-0.30623534, -0.28713295,  0.2963559 , -0.02578606, -0.01338235,\n",
       "         -0.0219495 , -0.00340709, -0.14614071, -0.35145167, -0.64425355,\n",
       "          0.23732135,  0.50211114, -0.35121515,  0.28241006, -0.09412158,\n",
       "         -0.66350096, -0.04234122, -0.5420494 , -0.00308641, -0.40194917,\n",
       "         -0.07936905, -0.01066698],\n",
       "        [ 0.2378538 ,  0.38333505, -0.46852857, -0.63188636,  0.29799172,\n",
       "          0.16267371, -0.45763227, -0.2075557 ,  0.31469774,  0.7151005 ,\n",
       "          0.33879924, -0.448906  ,  0.51325   , -0.14182664, -0.5889152 ,\n",
       "          0.2414685 , -0.31947464,  0.8054862 ,  0.4882236 ,  0.55337346,\n",
       "         -0.11581514, -0.36187524]], dtype=float32),\n",
       " array([-0.0186655 , -0.06217318,  0.04469689, -0.12196662,  0.13962965,\n",
       "         0.09191628, -0.0347899 ,  0.09694766,  0.10386787,  0.07037167,\n",
       "         0.13248104, -0.03400755,  0.0522529 ,  0.10103206, -0.00423797,\n",
       "        -0.02544021, -0.12594393, -0.04986932,  0.12549871,  0.13554107,\n",
       "         0.04913059, -0.0523638 ], dtype=float32)]"
      ]
     },
     "execution_count": 39,
     "metadata": {},
     "output_type": "execute_result"
    }
   ],
   "source": [
    "model.layers[1].get_weights()"
   ]
  },
  {
   "cell_type": "code",
   "execution_count": 40,
   "id": "cf7aacdd",
   "metadata": {
    "execution": {
     "iopub.execute_input": "2022-09-04T11:21:38.400725Z",
     "iopub.status.busy": "2022-09-04T11:21:38.400025Z",
     "iopub.status.idle": "2022-09-04T11:21:38.407442Z",
     "shell.execute_reply": "2022-09-04T11:21:38.406538Z"
    },
    "papermill": {
     "duration": 0.081074,
     "end_time": "2022-09-04T11:21:38.409545",
     "exception": false,
     "start_time": "2022-09-04T11:21:38.328471",
     "status": "completed"
    },
    "tags": []
   },
   "outputs": [
    {
     "data": {
      "text/plain": [
       "[array([[-0.41141042],\n",
       "        [ 0.2897412 ],\n",
       "        [-1.386094  ],\n",
       "        [-0.54018134],\n",
       "        [ 1.3705122 ],\n",
       "        [ 1.2493993 ],\n",
       "        [-0.4521546 ],\n",
       "        [ 0.600398  ],\n",
       "        [ 0.6516925 ],\n",
       "        [ 0.91428113],\n",
       "        [ 0.88840497],\n",
       "        [-0.4416006 ],\n",
       "        [ 0.5614666 ],\n",
       "        [ 0.2470372 ],\n",
       "        [-0.8383526 ],\n",
       "        [ 0.8533026 ],\n",
       "        [-0.5056986 ],\n",
       "        [ 1.1304314 ],\n",
       "        [ 1.2651639 ],\n",
       "        [ 0.36469752],\n",
       "        [ 0.52282715],\n",
       "        [-0.7404437 ]], dtype=float32),\n",
       " array([0.11533259], dtype=float32)]"
      ]
     },
     "execution_count": 40,
     "metadata": {},
     "output_type": "execute_result"
    }
   ],
   "source": [
    "model.layers[2].get_weights()"
   ]
  },
  {
   "cell_type": "code",
   "execution_count": 41,
   "id": "196d847c",
   "metadata": {
    "execution": {
     "iopub.execute_input": "2022-09-04T11:21:38.553432Z",
     "iopub.status.busy": "2022-09-04T11:21:38.552938Z",
     "iopub.status.idle": "2022-09-04T11:21:38.564247Z",
     "shell.execute_reply": "2022-09-04T11:21:38.563310Z"
    },
    "papermill": {
     "duration": 0.086263,
     "end_time": "2022-09-04T11:21:38.566643",
     "exception": false,
     "start_time": "2022-09-04T11:21:38.480380",
     "status": "completed"
    },
    "tags": []
   },
   "outputs": [
    {
     "data": {
      "text/plain": [
       "{'loss': [0.4836452007293701,\n",
       "  0.4399714767932892,\n",
       "  0.428854376077652,\n",
       "  0.42653629183769226,\n",
       "  0.4251037836074829,\n",
       "  0.42341840267181396,\n",
       "  0.42283016443252563,\n",
       "  0.42093944549560547,\n",
       "  0.41912952065467834,\n",
       "  0.4168204069137573,\n",
       "  0.41497528553009033,\n",
       "  0.41275474429130554,\n",
       "  0.4097597002983093,\n",
       "  0.40719181299209595,\n",
       "  0.4018489420413971,\n",
       "  0.39727330207824707,\n",
       "  0.39159029722213745,\n",
       "  0.385290265083313,\n",
       "  0.3789222836494446,\n",
       "  0.3727717995643616,\n",
       "  0.36641162633895874,\n",
       "  0.3620833158493042,\n",
       "  0.35851359367370605,\n",
       "  0.3540315330028534,\n",
       "  0.35051649808883667,\n",
       "  0.3478596806526184,\n",
       "  0.34635093808174133,\n",
       "  0.34513378143310547,\n",
       "  0.34388408064842224,\n",
       "  0.34289345145225525,\n",
       "  0.3425949811935425,\n",
       "  0.3413742482662201,\n",
       "  0.3407934606075287,\n",
       "  0.339705228805542,\n",
       "  0.339924156665802,\n",
       "  0.3392588496208191,\n",
       "  0.3390200436115265,\n",
       "  0.338232159614563,\n",
       "  0.33791497349739075,\n",
       "  0.33722880482673645,\n",
       "  0.3366585969924927,\n",
       "  0.3375818729400635,\n",
       "  0.3365621566772461,\n",
       "  0.3364875912666321,\n",
       "  0.33561471104621887,\n",
       "  0.3364839255809784,\n",
       "  0.3351985812187195,\n",
       "  0.335928738117218,\n",
       "  0.3348946273326874,\n",
       "  0.33552587032318115,\n",
       "  0.3343570828437805,\n",
       "  0.3340756297111511,\n",
       "  0.3342370092868805,\n",
       "  0.3349858522415161,\n",
       "  0.3341207206249237,\n",
       "  0.3341260850429535,\n",
       "  0.33347365260124207,\n",
       "  0.3335503339767456,\n",
       "  0.33302047848701477,\n",
       "  0.3324750065803528,\n",
       "  0.3328869342803955,\n",
       "  0.3338833153247833,\n",
       "  0.33279502391815186,\n",
       "  0.3333711624145508,\n",
       "  0.33213183283805847,\n",
       "  0.3323182761669159,\n",
       "  0.33232730627059937,\n",
       "  0.33249783515930176,\n",
       "  0.3315763473510742,\n",
       "  0.3329330086708069,\n",
       "  0.33205047249794006,\n",
       "  0.3323758840560913,\n",
       "  0.33179646730422974,\n",
       "  0.33145976066589355,\n",
       "  0.3318537771701813,\n",
       "  0.3307528793811798,\n",
       "  0.3310811519622803,\n",
       "  0.33083415031433105,\n",
       "  0.33097103238105774,\n",
       "  0.33077988028526306,\n",
       "  0.3308682143688202,\n",
       "  0.33059853315353394,\n",
       "  0.33143818378448486,\n",
       "  0.3303653299808502,\n",
       "  0.3292079567909241,\n",
       "  0.33059749007225037,\n",
       "  0.33017462491989136,\n",
       "  0.33006545901298523,\n",
       "  0.32951366901397705,\n",
       "  0.3309065103530884,\n",
       "  0.33023789525032043,\n",
       "  0.32972466945648193,\n",
       "  0.3296530544757843,\n",
       "  0.3295530378818512,\n",
       "  0.3292602300643921,\n",
       "  0.3295237720012665,\n",
       "  0.3292018175125122,\n",
       "  0.3293267488479614,\n",
       "  0.3295440375804901,\n",
       "  0.3284764885902405],\n",
       " 'accuracy': [0.7971875071525574,\n",
       "  0.8075000047683716,\n",
       "  0.8110937476158142,\n",
       "  0.8129687309265137,\n",
       "  0.8125,\n",
       "  0.8151562213897705,\n",
       "  0.8142187595367432,\n",
       "  0.8170312643051147,\n",
       "  0.8198437690734863,\n",
       "  0.824999988079071,\n",
       "  0.8224999904632568,\n",
       "  0.8251562714576721,\n",
       "  0.828125,\n",
       "  0.8270312547683716,\n",
       "  0.8318750262260437,\n",
       "  0.8357812762260437,\n",
       "  0.8410937786102295,\n",
       "  0.8410937786102295,\n",
       "  0.8462499976158142,\n",
       "  0.8465625047683716,\n",
       "  0.8504687547683716,\n",
       "  0.852343738079071,\n",
       "  0.8535937666893005,\n",
       "  0.8564062714576721,\n",
       "  0.860156238079071,\n",
       "  0.8592187762260437,\n",
       "  0.8614062666893005,\n",
       "  0.8600000143051147,\n",
       "  0.8610937595367432,\n",
       "  0.8614062666893005,\n",
       "  0.8592187762260437,\n",
       "  0.8618749976158142,\n",
       "  0.8620312213897705,\n",
       "  0.8637499809265137,\n",
       "  0.8621875047683716,\n",
       "  0.8648437261581421,\n",
       "  0.8629687428474426,\n",
       "  0.8607812523841858,\n",
       "  0.8621875047683716,\n",
       "  0.8626562356948853,\n",
       "  0.864062488079071,\n",
       "  0.864062488079071,\n",
       "  0.8642187714576721,\n",
       "  0.8620312213897705,\n",
       "  0.8631250262260437,\n",
       "  0.864062488079071,\n",
       "  0.8643749952316284,\n",
       "  0.8643749952316284,\n",
       "  0.8654687404632568,\n",
       "  0.8629687428474426,\n",
       "  0.8653125166893005,\n",
       "  0.8648437261581421,\n",
       "  0.8646875023841858,\n",
       "  0.8635937571525574,\n",
       "  0.8628125190734863,\n",
       "  0.8637499809265137,\n",
       "  0.8642187714576721,\n",
       "  0.862500011920929,\n",
       "  0.8620312213897705,\n",
       "  0.8656250238418579,\n",
       "  0.8645312786102295,\n",
       "  0.8628125190734863,\n",
       "  0.86328125,\n",
       "  0.8635937571525574,\n",
       "  0.8634374737739563,\n",
       "  0.8642187714576721,\n",
       "  0.8665624856948853,\n",
       "  0.8642187714576721,\n",
       "  0.8654687404632568,\n",
       "  0.8648437261581421,\n",
       "  0.8642187714576721,\n",
       "  0.8651562333106995,\n",
       "  0.8671875,\n",
       "  0.8648437261581421,\n",
       "  0.864062488079071,\n",
       "  0.8665624856948853,\n",
       "  0.8659374713897705,\n",
       "  0.8653125166893005,\n",
       "  0.8670312762260437,\n",
       "  0.8671875,\n",
       "  0.8659374713897705,\n",
       "  0.8659374713897705,\n",
       "  0.86328125,\n",
       "  0.8657812476158142,\n",
       "  0.8656250238418579,\n",
       "  0.8651562333106995,\n",
       "  0.8659374713897705,\n",
       "  0.8673437237739563,\n",
       "  0.8659374713897705,\n",
       "  0.8667187690734863,\n",
       "  0.8657812476158142,\n",
       "  0.8660937547683716,\n",
       "  0.8665624856948853,\n",
       "  0.8656250238418579,\n",
       "  0.8660937547683716,\n",
       "  0.8660937547683716,\n",
       "  0.8665624856948853,\n",
       "  0.8659374713897705,\n",
       "  0.8656250238418579,\n",
       "  0.866406261920929],\n",
       " 'val_loss': [0.45630955696105957,\n",
       "  0.43598636984825134,\n",
       "  0.4320659637451172,\n",
       "  0.4306522607803345,\n",
       "  0.43025219440460205,\n",
       "  0.429421603679657,\n",
       "  0.42708176374435425,\n",
       "  0.4258393943309784,\n",
       "  0.4229776859283447,\n",
       "  0.4208909571170807,\n",
       "  0.41925057768821716,\n",
       "  0.41537389159202576,\n",
       "  0.410706102848053,\n",
       "  0.4066039025783539,\n",
       "  0.4013262093067169,\n",
       "  0.3960000276565552,\n",
       "  0.3884629011154175,\n",
       "  0.38128891587257385,\n",
       "  0.3753708302974701,\n",
       "  0.3685404658317566,\n",
       "  0.36321553587913513,\n",
       "  0.358052134513855,\n",
       "  0.3556537330150604,\n",
       "  0.35105228424072266,\n",
       "  0.34836632013320923,\n",
       "  0.34989726543426514,\n",
       "  0.3454659581184387,\n",
       "  0.34478986263275146,\n",
       "  0.3449096381664276,\n",
       "  0.3431813716888428,\n",
       "  0.3484547436237335,\n",
       "  0.3436492085456848,\n",
       "  0.34334009885787964,\n",
       "  0.343219518661499,\n",
       "  0.3424566984176636,\n",
       "  0.34511756896972656,\n",
       "  0.34216395020484924,\n",
       "  0.34193477034568787,\n",
       "  0.34489819407463074,\n",
       "  0.34138545393943787,\n",
       "  0.34310051798820496,\n",
       "  0.34145256876945496,\n",
       "  0.3433314263820648,\n",
       "  0.3439643383026123,\n",
       "  0.34142211079597473,\n",
       "  0.34171077609062195,\n",
       "  0.3428686559200287,\n",
       "  0.3437309265136719,\n",
       "  0.34243035316467285,\n",
       "  0.3455779254436493,\n",
       "  0.34091612696647644,\n",
       "  0.3450359106063843,\n",
       "  0.3428155183792114,\n",
       "  0.3418042063713074,\n",
       "  0.34544551372528076,\n",
       "  0.34233275055885315,\n",
       "  0.3458046019077301,\n",
       "  0.34408050775527954,\n",
       "  0.34655094146728516,\n",
       "  0.34440070390701294,\n",
       "  0.34151145815849304,\n",
       "  0.3435264825820923,\n",
       "  0.3419003188610077,\n",
       "  0.3425613045692444,\n",
       "  0.3415383994579315,\n",
       "  0.3453727066516876,\n",
       "  0.3464776575565338,\n",
       "  0.3437855541706085,\n",
       "  0.3432284891605377,\n",
       "  0.34218648076057434,\n",
       "  0.34760582447052,\n",
       "  0.3475216329097748,\n",
       "  0.34375786781311035,\n",
       "  0.3455933630466461,\n",
       "  0.3439561128616333,\n",
       "  0.34392958879470825,\n",
       "  0.3425721228122711,\n",
       "  0.34264078736305237,\n",
       "  0.3438795804977417,\n",
       "  0.34274718165397644,\n",
       "  0.34478798508644104,\n",
       "  0.3518785536289215,\n",
       "  0.34839117527008057,\n",
       "  0.3423480987548828,\n",
       "  0.3458027243614197,\n",
       "  0.3575838804244995,\n",
       "  0.3428955078125,\n",
       "  0.3435092866420746,\n",
       "  0.34571439027786255,\n",
       "  0.3450454771518707,\n",
       "  0.3449647128582001,\n",
       "  0.3449333608150482,\n",
       "  0.3436042368412018,\n",
       "  0.3431330621242523,\n",
       "  0.34476345777511597,\n",
       "  0.3455813229084015,\n",
       "  0.344538152217865,\n",
       "  0.3440988063812256,\n",
       "  0.34387803077697754,\n",
       "  0.34279003739356995],\n",
       " 'val_accuracy': [0.7975000143051147,\n",
       "  0.8087499737739563,\n",
       "  0.8068749904632568,\n",
       "  0.8050000071525574,\n",
       "  0.809374988079071,\n",
       "  0.815625011920929,\n",
       "  0.8106250166893005,\n",
       "  0.8068749904632568,\n",
       "  0.8118749856948853,\n",
       "  0.8187500238418579,\n",
       "  0.8181250095367432,\n",
       "  0.8237500190734863,\n",
       "  0.8224999904632568,\n",
       "  0.8243749737739563,\n",
       "  0.8306249976158142,\n",
       "  0.828125,\n",
       "  0.8362500071525574,\n",
       "  0.8418750166893005,\n",
       "  0.8424999713897705,\n",
       "  0.8500000238418579,\n",
       "  0.846875011920929,\n",
       "  0.846875011920929,\n",
       "  0.846875011920929,\n",
       "  0.8525000214576721,\n",
       "  0.8537499904632568,\n",
       "  0.8500000238418579,\n",
       "  0.8556249737739563,\n",
       "  0.8550000190734863,\n",
       "  0.8506249785423279,\n",
       "  0.8537499904632568,\n",
       "  0.856249988079071,\n",
       "  0.8525000214576721,\n",
       "  0.8575000166893005,\n",
       "  0.8556249737739563,\n",
       "  0.8525000214576721,\n",
       "  0.8512499928474426,\n",
       "  0.8575000166893005,\n",
       "  0.8556249737739563,\n",
       "  0.8493750095367432,\n",
       "  0.8543750047683716,\n",
       "  0.856249988079071,\n",
       "  0.8581249713897705,\n",
       "  0.8537499904632568,\n",
       "  0.8518750071525574,\n",
       "  0.8550000190734863,\n",
       "  0.8575000166893005,\n",
       "  0.8550000190734863,\n",
       "  0.8518750071525574,\n",
       "  0.8531249761581421,\n",
       "  0.8518750071525574,\n",
       "  0.8550000190734863,\n",
       "  0.8493750095367432,\n",
       "  0.8518750071525574,\n",
       "  0.8556249737739563,\n",
       "  0.8550000190734863,\n",
       "  0.8537499904632568,\n",
       "  0.8506249785423279,\n",
       "  0.8512499928474426,\n",
       "  0.8581249713897705,\n",
       "  0.8556249737739563,\n",
       "  0.8575000166893005,\n",
       "  0.8518750071525574,\n",
       "  0.8531249761581421,\n",
       "  0.8550000190734863,\n",
       "  0.8568750023841858,\n",
       "  0.8575000166893005,\n",
       "  0.8500000238418579,\n",
       "  0.8518750071525574,\n",
       "  0.8506249785423279,\n",
       "  0.8518750071525574,\n",
       "  0.8487499952316284,\n",
       "  0.8481249809265137,\n",
       "  0.8543750047683716,\n",
       "  0.8506249785423279,\n",
       "  0.8512499928474426,\n",
       "  0.8543750047683716,\n",
       "  0.8531249761581421,\n",
       "  0.8518750071525574,\n",
       "  0.856249988079071,\n",
       "  0.8525000214576721,\n",
       "  0.8518750071525574,\n",
       "  0.846875011920929,\n",
       "  0.8506249785423279,\n",
       "  0.8543750047683716,\n",
       "  0.8487499952316284,\n",
       "  0.8475000262260437,\n",
       "  0.8543750047683716,\n",
       "  0.8537499904632568,\n",
       "  0.8537499904632568,\n",
       "  0.856249988079071,\n",
       "  0.8568750023841858,\n",
       "  0.8537499904632568,\n",
       "  0.8500000238418579,\n",
       "  0.8525000214576721,\n",
       "  0.8512499928474426,\n",
       "  0.8550000190734863,\n",
       "  0.8512499928474426,\n",
       "  0.8512499928474426,\n",
       "  0.8531249761581421,\n",
       "  0.8537499904632568]}"
      ]
     },
     "execution_count": 41,
     "metadata": {},
     "output_type": "execute_result"
    }
   ],
   "source": [
    "history.history"
   ]
  },
  {
   "cell_type": "code",
   "execution_count": 42,
   "id": "f63d7f0d",
   "metadata": {
    "execution": {
     "iopub.execute_input": "2022-09-04T11:21:38.722533Z",
     "iopub.status.busy": "2022-09-04T11:21:38.721158Z",
     "iopub.status.idle": "2022-09-04T11:21:38.728765Z",
     "shell.execute_reply": "2022-09-04T11:21:38.726985Z"
    },
    "papermill": {
     "duration": 0.09273,
     "end_time": "2022-09-04T11:21:38.731644",
     "exception": false,
     "start_time": "2022-09-04T11:21:38.638914",
     "status": "completed"
    },
    "tags": []
   },
   "outputs": [],
   "source": [
    "from matplotlib import style"
   ]
  },
  {
   "cell_type": "code",
   "execution_count": 43,
   "id": "0a8dc8ee",
   "metadata": {
    "execution": {
     "iopub.execute_input": "2022-09-04T11:21:38.886110Z",
     "iopub.status.busy": "2022-09-04T11:21:38.885283Z",
     "iopub.status.idle": "2022-09-04T11:21:39.175230Z",
     "shell.execute_reply": "2022-09-04T11:21:39.174335Z"
    },
    "papermill": {
     "duration": 0.369777,
     "end_time": "2022-09-04T11:21:39.177671",
     "exception": false,
     "start_time": "2022-09-04T11:21:38.807894",
     "status": "completed"
    },
    "tags": []
   },
   "outputs": [
    {
     "data": {
      "image/png": "[encoded data removed]",
      "text/plain": [
       "<Figure size 576x504 with 1 Axes>"
      ]
     },
     "metadata": {},
     "output_type": "display_data"
    }
   ],
   "source": [
    "style.use(\"ggplot\")\n",
    "plt.figure(figsize=(8,7))\n",
    "plt.plot(history.history['loss'])\n",
    "plt.plot(history.history['val_loss'])\n",
    "plt.legend(['Loss', 'Val_loss'])\n",
    "plt.show()"
   ]
  },
  {
   "cell_type": "code",
   "execution_count": 44,
   "id": "2f40742b",
   "metadata": {
    "execution": {
     "iopub.execute_input": "2022-09-04T11:21:39.324218Z",
     "iopub.status.busy": "2022-09-04T11:21:39.323003Z",
     "iopub.status.idle": "2022-09-04T11:21:39.539957Z",
     "shell.execute_reply": "2022-09-04T11:21:39.538738Z"
    },
    "papermill": {
     "duration": 0.291715,
     "end_time": "2022-09-04T11:21:39.542481",
     "exception": false,
     "start_time": "2022-09-04T11:21:39.250766",
     "status": "completed"
    },
    "tags": []
   },
   "outputs": [
    {
     "data": {
      "image/png": "[encoded data removed]",
      "text/plain": [
       "<Figure size 576x504 with 1 Axes>"
      ]
     },
     "metadata": {},
     "output_type": "display_data"
    }
   ],
   "source": [
    "style.use(\"ggplot\")\n",
    "plt.figure(figsize=(8,7))\n",
    "plt.plot(history.history['accuracy'])\n",
    "plt.plot(history.history['val_accuracy'])\n",
    "plt.legend(['Loss', 'Val_loss'])\n",
    "plt.show()"
   ]
  },
  {
   "cell_type": "code",
   "execution_count": null,
   "id": "92196e5b",
   "metadata": {
    "papermill": {
     "duration": 0.073908,
     "end_time": "2022-09-04T11:21:39.687710",
     "exception": false,
     "start_time": "2022-09-04T11:21:39.613802",
     "status": "completed"
    },
    "tags": []
   },
   "outputs": [],
   "source": []
  }
 ],
 "metadata": {
  "kernelspec": {
   "display_name": "Python 3",
   "language": "python",
   "name": "python3"
  },
  "language_info": {
   "codemirror_mode": {
    "name": "ipython",
    "version": 3
   },
   "file_extension": ".py",
   "mimetype": "text/x-python",
   "name": "python",
   "nbconvert_exporter": "python",
   "pygments_lexer": "ipython3",
   "version": "3.7.12"
  },
  "papermill": {
   "default_parameters": {},
   "duration": 70.264691,
   "end_time": "2022-09-04T11:21:43.228231",
   "environment_variables": {},
   "exception": null,
   "input_path": "__notebook__.ipynb",
   "output_path": "__notebook__.ipynb",
   "parameters": {},
   "start_time": "2022-09-04T11:20:32.963540",
   "version": "2.3.4"
  }
 },
 "nbformat": 4,
 "nbformat_minor": 5
}
